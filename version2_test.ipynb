{
 "cells": [
  {
   "cell_type": "code",
   "execution_count": null,
   "metadata": {
    "collapsed": false
   },
   "outputs": [],
   "source": [
    "import keras as k\n",
    "import scipy"
   ]
  },
  {
   "cell_type": "code",
   "execution_count": null,
   "metadata": {
    "collapsed": true
   },
   "outputs": [],
   "source": [
    "import numpy as np\n",
    "import pandas as pd\n",
    "from sklearn.model_selection import train_test_split\n",
    "from sklearn.ensemble import RandomForestRegressor, GradientBoostingRegressor\n",
    "from sklearn.preprocessing import StandardScaler\n",
    "from keras.callbacks import ModelCheckpoint, EarlyStopping\n",
    "\n",
    "\n",
    "from keras.models import Sequential\n",
    "from keras.layers import Dense, Activation\n",
    "import pickle\n",
    "import matplotlib.pyplot as plt\n",
    "%matplotlib inline"
   ]
  },
  {
   "cell_type": "code",
   "execution_count": null,
   "metadata": {
    "collapsed": false
   },
   "outputs": [],
   "source": [
    "home = '/home/nandhini/aozel/periodicBox'\n",
    "phi=0.1\n",
    "cohesion = ''\n",
    "\n",
    "dp = 75\n",
    "timestep=0.65\n",
    "fsize = 9\n",
    "data_signature = 'fsize' + str(fsize)+'phi'+str(phi)+'dp'+str(dp)+'timestep'+str(timestep) + cohesion\n",
    "file_myData = \"corrected_myDataFSUslip\"+data_signature+\".pickle\"\n",
    "file_target = \"corrected_targetFSUslip\"+data_signature+\".pickle\"\n",
    "\n",
    "myData = pickle.load( open( file_myData, \"rb\" ) )\n",
    "target = pickle.load( open( file_target, \"rb\" ) )"
   ]
  },
  {
   "cell_type": "code",
   "execution_count": null,
   "metadata": {
    "collapsed": false
   },
   "outputs": [],
   "source": [
    "myData.shape"
   ]
  },
  {
   "cell_type": "code",
   "execution_count": null,
   "metadata": {
    "collapsed": true
   },
   "outputs": [],
   "source": [
    "X_train, X_test, y_train, y_test = train_test_split(myData, target, test_size=0.5, random_state=42)"
   ]
  },
  {
   "cell_type": "code",
   "execution_count": null,
   "metadata": {
    "collapsed": false
   },
   "outputs": [],
   "source": [
    "scaler = pickle.load( open( 'FSscale_version2', \"rb\" ) )\n",
    "X_test_norm = scaler.transform(X_test)"
   ]
  },
  {
   "cell_type": "code",
   "execution_count": null,
   "metadata": {
    "collapsed": false
   },
   "outputs": [],
   "source": [
    "X_test_norm.shape"
   ]
  },
  {
   "cell_type": "code",
   "execution_count": null,
   "metadata": {
    "collapsed": true
   },
   "outputs": [],
   "source": [
    "r = np.array([1,2,3])"
   ]
  },
  {
   "cell_type": "code",
   "execution_count": null,
   "metadata": {
    "collapsed": false
   },
   "outputs": [],
   "source": [
    "np.maximum(r,5)"
   ]
  },
  {
   "cell_type": "code",
   "execution_count": null,
   "metadata": {
    "collapsed": false
   },
   "outputs": [],
   "source": [
    "model = Sequential()\n",
    "model.add(Dense(100, activation='relu', kernel_initializer='normal',input_dim=X_test_norm.shape[-1]))\n",
    "model.add(Dense(1, activation='linear', kernel_initializer='normal'))\n",
    "save_file = 'corrected_FSversion2_small.hdf5'\n",
    "model.load_weights(save_file)\n",
    "\n",
    "y_predict = model.predict(X_test_norm)\n",
    "error_percent = (y_predict.reshape(-1)- y_test.reshape(-1))/y_test.reshape(-1)\n",
    "errpd = plt.hist(error_percent,1000,range=(-30, 30), normed=True)\n",
    "plt.xlim([-1, 1])\n",
    "\n",
    "pred = y_predict.reshape(-1)\n",
    "real = y_test.reshape(-1)\n",
    "#pred = np.maximum(pred,0)\n",
    "#pred = np.minimum(pred,1.5)\n",
    "a = real.copy()\n",
    "pred = pred[(a<1.5) & (a>0)]\n",
    "real = real[(a<1.5) & (a>0)]\n",
    "b = pred.copy()\n",
    "pred = pred[(b<1.5) & (b>0)]\n",
    "real = real[(b<1.5) & (b>0)]\n",
    "\n",
    "print(scipy.stats.pearsonr(pred,real))"
   ]
  },
  {
   "cell_type": "code",
   "execution_count": null,
   "metadata": {
    "collapsed": false
   },
   "outputs": [],
   "source": [
    "plt.scatter(real[:100000], pred[:100000],alpha=0.1)"
   ]
  },
  {
   "cell_type": "code",
   "execution_count": null,
   "metadata": {
    "collapsed": false
   },
   "outputs": [],
   "source": [
    "fig = plt.gcf()\n",
    "fig.set_size_inches(5.5, 5.5)\n",
    "plt.hexbin(real[:100000], pred[:100000],gridsize=80)\n",
    "plt.xlim([0,1.2])\n",
    "plt.ylim([0,1.2])\n",
    "plt.xlabel('Actual Values $y$',fontsize='large')\n",
    "plt.ylabel('Model Predictions $\\hat{y}$ ',fontsize='large')\n",
    "fig.savefig('surroundings.eps', dpi=100)"
   ]
  },
  {
   "cell_type": "code",
   "execution_count": null,
   "metadata": {
    "collapsed": false
   },
   "outputs": [],
   "source": [
    "import seaborn as sns\n",
    "\n",
    "sns.set(style=\"ticks\")\n",
    "lm = sns.jointplot(real[:10000], pred[:10000], kind=\"hex\", color=\"#4CB391\",stat_func=None)\n",
    "plt.xlim([0,1])"
   ]
  },
  {
   "cell_type": "code",
   "execution_count": null,
   "metadata": {
    "collapsed": false
   },
   "outputs": [],
   "source": [
    "model = Sequential()\n",
    "#model.add(Dense(100, activation='relu', kernel_initializer='normal',input_dim=X_test_norm.shape[-1]))\n",
    "#model.add(Dense(1, activation='linear', kernel_initializer='normal'))\n",
    "save_file = 'corrected_FSversion2_small.hdf5'\n",
    "model.add(Dense(100, input_dim=109))\n",
    "model.add(Activation('relu'))\n",
    "model.add(Dense(1))\n",
    "model.load_weights(save_file)\n",
    "\n",
    "y_predict = model.predict(X_test_norm)\n",
    "error_percent = (y_predict.reshape(-1)- y_test.reshape(-1))/y_test.reshape(-1)\n",
    "errpd = plt.hist(error_percent,1000,range=(-30, 30), normed=True)\n",
    "plt.xlim([-1, 1])\n",
    "\n",
    "real = y_predict.reshape(-1)\n",
    "pred = y_test.reshape(-1)\n",
    "pred = np.maximum(pred,0)\n",
    "pred = np.minimum(pred,1.5)\n",
    "a = real.copy()\n",
    "pred = pred[(a<10) & (a>-10)]\n",
    "real = real[(a<10) & (a>-10)]\n",
    "print(scipy.stats.pearsonr(pred,real))"
   ]
  },
  {
   "cell_type": "code",
   "execution_count": null,
   "metadata": {
    "collapsed": true
   },
   "outputs": [],
   "source": [
    "model_json = model.to_json()\n",
    "with open(\"corrected_nn_109to1.json\", \"w\") as json_file:\n",
    "    json_file.write(model_json)"
   ]
  },
  {
   "cell_type": "code",
   "execution_count": null,
   "metadata": {
    "collapsed": true
   },
   "outputs": [],
   "source": [
    "model.save_weights(\"corrected_nn_109to1_weights.hdf5\")"
   ]
  },
  {
   "cell_type": "code",
   "execution_count": null,
   "metadata": {
    "collapsed": false
   },
   "outputs": [],
   "source": [
    "plt.scatter(real,pred,alpha=0.1)\n",
    "plt.xlim([-1, 2])\n",
    "plt.ylim([-1, 2])"
   ]
  },
  {
   "cell_type": "code",
   "execution_count": null,
   "metadata": {
    "collapsed": false
   },
   "outputs": [],
   "source": [
    "import matplotlib as mpl\n",
    "\n",
    "y_predict = model.predict(X_test_norm)\n",
    "error_percent = (y_predict.reshape(-1)- y_test.reshape(-1))/y_test.reshape(-1)\n",
    "errpd = plt.hist(error_percent,1000,range=(-30, 30), normed=True)\n",
    "plt.xlim([-1, 1])\n",
    "\n",
    "\n",
    "#mpl.rc(\"savefig\", dpi=dpi)"
   ]
  },
  {
   "cell_type": "code",
   "execution_count": null,
   "metadata": {
    "collapsed": false
   },
   "outputs": [],
   "source": [
    "plt.xlabel?"
   ]
  },
  {
   "cell_type": "code",
   "execution_count": null,
   "metadata": {
    "collapsed": false
   },
   "outputs": [],
   "source": [
    "plt.plot(errpd[1][:-1]+errpd[1][1]-errpd[1][0],errpd[0],'k')\n",
    "plt.xlim([-1,1])\n",
    "plt.xlabel('$e_i$',fontsize=15)\n",
    "plt.ylabel('Probability Density Function',fontsize=15)\n",
    "import matplotlib as mpl\n",
    "mpl.rc(\"savefig\", dpi=200)"
   ]
  },
  {
   "cell_type": "code",
   "execution_count": null,
   "metadata": {
    "collapsed": true
   },
   "outputs": [],
   "source": []
  },
  {
   "cell_type": "code",
   "execution_count": null,
   "metadata": {
    "collapsed": false
   },
   "outputs": [],
   "source": [
    "row = np.ones((1,109))*2\n",
    "for i in np.linspace(-1,10,1000):\n",
    "    row[0,53] = i\n",
    "    plt.scatter(i*scaler.std_[53] + scaler.mean_[53], model.predict(row))"
   ]
  },
  {
   "cell_type": "code",
   "execution_count": null,
   "metadata": {
    "collapsed": false
   },
   "outputs": [],
   "source": [
    "(model.layers[1].get_weights()[0]"
   ]
  },
  {
   "cell_type": "code",
   "execution_count": null,
   "metadata": {
    "collapsed": false
   },
   "outputs": [],
   "source": [
    "model = Sequential()\n",
    "model.add(Dense(100, activation='relu', kernel_initializer='normal',input_dim=X_test_norm.shape[-1]))\n",
    "model.add(Dense(100, activation='relu', kernel_initializer='normal'))\n",
    "model.add(Dense(100, activation='relu', kernel_initializer='normal'))\n",
    "model.add(Dense(100, activation='relu', kernel_initializer='normal'))\n",
    "model.add(Dense(100, activation='relu', kernel_initializer='normal'))\n",
    "model.add(Dense(100, activation='relu', kernel_initializer='normal'))\n",
    "model.add(Dense(100, activation='relu', kernel_initializer='normal'))\n",
    "model.add(Dense(1, activation='linear', kernel_initializer='normal'))\n",
    "save_file = 'corrected_FSversion2_mid.hdf5'\n",
    "model.load_weights(save_file)\n",
    "\n",
    "y_predict = model.predict(X_test_norm)\n",
    "error_percent = (y_predict.reshape(-1)- y_test.reshape(-1))/y_test.reshape(-1)\n",
    "errpd = plt.hist(error_percent,1000,range=(-30, 30), normed=True)\n",
    "plt.xlim([-1, 1])\n",
    "\n",
    "pred = y_predict.reshape(-1)\n",
    "real = y_test.reshape(-1)\n",
    "pred = np.maximum(pred,0)\n",
    "pred = np.minimum(pred,1.5)\n",
    "a = real.copy()\n",
    "pred = pred[(a<10) & (a>-10)]\n",
    "real = real[(a<10) & (a>-10)]\n",
    "print(scipy.stats.pearsonr(pred,real))"
   ]
  },
  {
   "cell_type": "code",
   "execution_count": null,
   "metadata": {
    "collapsed": false
   },
   "outputs": [],
   "source": [
    "model = Sequential()\n",
    "model.add(Dense(100, activation='relu', kernel_initializer='normal',input_dim=5))\n",
    "model.add(Dense(1, activation='linear', kernel_initializer='normal'))\n",
    "save_file = 'corrected_version2_small_local.hdf5'\n",
    "model.load_weights(save_file)\n",
    "\n",
    "y_predict = model.predict(X_test_norm[:,np.array([0,53,54,55,56 ])])\n",
    "error_percent = (y_predict.reshape(-1)- y_test.reshape(-1))/y_test.reshape(-1)\n",
    "errpd = plt.hist(error_percent,1000,range=(-30, 30), normed=True)\n",
    "plt.xlim([-1, 1])\n",
    "\n",
    "pred = y_predict.reshape(-1)\n",
    "real = y_test.reshape(-1)\n",
    "#pred = np.maximum(pred,0)\n",
    "#pred = np.minimum(pred,1.5)\n",
    "a = real.copy()\n",
    "pred = pred[(a<1.5) & (a>0)]\n",
    "real = real[(a<1.5) & (a>0)]\n",
    "b = pred.copy()\n",
    "pred = pred[(b<1.5) & (b>0)]\n",
    "real = real[(b<1.5) & (b>0)]\n",
    "\n",
    "print(scipy.stats.pearsonr(pred,real))"
   ]
  },
  {
   "cell_type": "code",
   "execution_count": null,
   "metadata": {
    "collapsed": false
   },
   "outputs": [],
   "source": [
    "plt.scatter(real[:100000], pred[:100000],alpha=0.1)"
   ]
  },
  {
   "cell_type": "code",
   "execution_count": null,
   "metadata": {
    "collapsed": false
   },
   "outputs": [],
   "source": [
    "fig = plt.gcf()\n",
    "fig.set_size_inches(5.5, 5.5)\n",
    "plt.hexbin(real[:100000], pred[:100000],gridsize=80)\n",
    "plt.xlim([0,1.2])\n",
    "plt.ylim([0,1.2])\n",
    "plt.xlabel('Actual Values $y$',fontsize='large')\n",
    "plt.ylabel('Model Predictions $\\hat{y}$ ',fontsize='large')\n",
    "fig.savefig('locals.eps', dpi=100)"
   ]
  },
  {
   "cell_type": "code",
   "execution_count": null,
   "metadata": {
    "collapsed": false
   },
   "outputs": [],
   "source": [
    "import seaborn as sns\n",
    "sns.set(style=\"ticks\")\n",
    "lm = sns.jointplot(real[:10000], pred[:10000], kind=\"hex\", color=\"#4CB391\")\n",
    "plt.xlim([0,1])"
   ]
  },
  {
   "cell_type": "code",
   "execution_count": null,
   "metadata": {
    "collapsed": true
   },
   "outputs": [],
   "source": [
    "model.predict"
   ]
  },
  {
   "cell_type": "code",
   "execution_count": null,
   "metadata": {
    "collapsed": false
   },
   "outputs": [],
   "source": [
    "scaler.mean_[53]"
   ]
  },
  {
   "cell_type": "code",
   "execution_count": null,
   "metadata": {
    "collapsed": false
   },
   "outputs": [],
   "source": [
    "scaler.std_[53]"
   ]
  },
  {
   "cell_type": "code",
   "execution_count": null,
   "metadata": {
    "collapsed": false
   },
   "outputs": [],
   "source": [
    "model = Sequential()\n",
    "model.add(Dense(100, activation='relu', kernel_initializer='normal',input_dim=4))\n",
    "model.add(Dense(1, activation='linear', kernel_initializer='normal'))\n",
    "model.compile(loss='mean_absolute_error', optimizer='Adam')\n",
    "save_file = 'version2_small_local.hdf5'\n",
    "model.load_weights(save_file)\n",
    "checkpointer = ModelCheckpoint(filepath=save_file, verbose=1, save_best_only=True)\n",
    "\n",
    "y_predict = model.predict(X_test_norm[:,52:56])\n",
    "error_percent = (y_predict.reshape(-1)- y_test.reshape(-1))/y_test.reshape(-1)\n",
    "errpd = plt.hist(error_percent,1000,range=(-30, 30), normed=True)\n",
    "plt.xlim([-1, 1])\n",
    "\n",
    "real = y_predict.reshape(-1)\n",
    "pred = y_test.reshape(-1)\n",
    "pred = pred[(real<2) & (real>0)]\n",
    "real = real[(real<2) & (real>0)]\n",
    "print(scipy.stats.pearsonr(pred,real))\n",
    "print(np.mean(np.abs(real-pred)))\n",
    "#model.fit(X_train_norm, y_train, batch_size=512, epochs=40, verbose=1, validation_data=(X_dev_norm, y_dev), callbacks=[checkpointer])"
   ]
  },
  {
   "cell_type": "code",
   "execution_count": null,
   "metadata": {
    "collapsed": false
   },
   "outputs": [],
   "source": [
    "model = Sequential()\n",
    "model.add(Dense(100, activation='relu', kernel_initializer='normal',input_dim=X_test_norm.shape[-1]))\n",
    "model.add(Dense(1, activation='linear', kernel_initializer='normal'))\n",
    "model.compile(loss='mean_absolute_error', optimizer='Adam')\n",
    "save_file = 'version2_small.hdf5'\n",
    "model.load_weights(save_file)\n",
    "checkpointer = ModelCheckpoint(filepath=save_file, verbose=1, save_best_only=True)\n",
    "#model.fit(X_train_norm, y_train, batch_size=512, epochs=40, verbose=1, validation_data=(X_dev_norm, y_dev), callbacks=[checkpointer])"
   ]
  },
  {
   "cell_type": "code",
   "execution_count": null,
   "metadata": {
    "collapsed": false
   },
   "outputs": [],
   "source": [
    "y_predict = model.predict(X_test_norm)\n",
    "error_percent = (y_predict.reshape(-1)- y_test.reshape(-1))/y_test.reshape(-1)\n",
    "errpd = plt.hist(error_percent,1000,range=(-30, 30), normed=True)\n",
    "plt.xlim([-1, 1])\n",
    "\n",
    "real = y_predict.reshape(-1)\n",
    "pred = y_test.reshape(-1)\n",
    "#pred = pred[(real<2) & (real>0)]\n",
    "#real = real[(real<2) & (real>0)]\n",
    "print(scipy.stats.pearsonr(pred,real))\n",
    "print(np.mean(np.abs(real-pred)))"
   ]
  },
  {
   "cell_type": "code",
   "execution_count": null,
   "metadata": {
    "collapsed": false
   },
   "outputs": [],
   "source": [
    "model = Sequential()\n",
    "\n",
    "model.add(Dense(100, activation='relu', kernel_initializer='normal',input_dim=X_realTT_norm.shape[-1]))\n",
    "model.add(Dense(100, activation='relu', kernel_initializer='normal'))\n",
    "model.add(Dense(100, activation='relu', kernel_initializer='normal'))\n",
    "model.add(Dense(100, activation='relu', kernel_initializer='normal'))\n",
    "model.add(Dense(64, activation='relu', kernel_initializer='normal'))\n",
    "model.add(Dense(64, activation='relu', kernel_initializer='normal'))\n",
    "model.add(Dense(64, activation='relu', kernel_initializer='normal'))\n",
    "model.add(Dense(32, activation='relu', kernel_initializer='normal'))\n",
    "model.add(Dense(16, activation='relu', kernel_initializer='normal'))\n",
    "model.add(Dense(8, activation='relu', kernel_initializer='normal'))\n",
    "model.add(Dense(4, activation='relu', kernel_initializer='normal'))\n",
    "model.add(Dense(1, activation='linear', kernel_initializer='normal'))\n",
    "model.compile(loss='mean_absolute_error', optimizer='Adam')\n",
    "file = 'weights_Uslip3' + str(fsize) + '.hdf5'\n",
    "model.load_weights(file)\n",
    "#checkpointer = ModelCheckpoint(filepath=file, verbose=1, save_best_only=True)\n",
    "#model.fit(X_train_norm, y_train, batch_size=128, epochs=60, verbose=1, validation_data=(X_realCV_norm, y_realCV), callbacks=[checkpointer])"
   ]
  },
  {
   "cell_type": "markdown",
   "metadata": {},
   "source": [
    "$\\phi$ = 0.1, d = 75 mm, time = 0.6\n",
    "\n"
   ]
  },
  {
   "cell_type": "code",
   "execution_count": null,
   "metadata": {
    "collapsed": false
   },
   "outputs": [],
   "source": [
    "y_predict = model.predict(X_realTT_norm)\n",
    "error_percent = (y_predict.reshape(-1) - y_realTT.reshape(-1))/y_realTT.reshape(-1)\n",
    "errpd = plt.hist(error_percent,4000,normed=True)\n",
    "plt.xlim([-2, 2])"
   ]
  },
  {
   "cell_type": "markdown",
   "metadata": {},
   "source": [
    "$\\phi$ = 0.1, d = 75 mm, time = 0.65\n",
    "\n"
   ]
  },
  {
   "cell_type": "code",
   "execution_count": null,
   "metadata": {
    "collapsed": false
   },
   "outputs": [],
   "source": [
    "y_predict = model.predict(X_realTT_norm)\n",
    "error_percent = (y_predict.reshape(-1) - y_realTT.reshape(-1))/y_realTT.reshape(-1)\n",
    "errpd = plt.hist(error_percent,4000,normed=True)\n",
    "plt.xlim([-2, 2])"
   ]
  },
  {
   "cell_type": "code",
   "execution_count": null,
   "metadata": {
    "collapsed": true
   },
   "outputs": [],
   "source": []
  },
  {
   "cell_type": "code",
   "execution_count": null,
   "metadata": {
    "collapsed": true
   },
   "outputs": [],
   "source": []
  },
  {
   "cell_type": "markdown",
   "metadata": {},
   "source": [
    "$\\phi$ = 0.1, d = 150 mm, time = 0.65\n",
    "\n",
    "\n"
   ]
  },
  {
   "cell_type": "code",
   "execution_count": null,
   "metadata": {
    "collapsed": false
   },
   "outputs": [],
   "source": [
    "y_predict = model.predict(X_realTT_norm)\n",
    "error_percent = (y_predict.reshape(-1) - y_realTT.reshape(-1))/y_realTT.reshape(-1)\n",
    "errpd = plt.hist(error_percent,4000,normed=True)\n",
    "plt.xlim([-2, 2])"
   ]
  },
  {
   "cell_type": "markdown",
   "metadata": {},
   "source": [
    "$\\phi$ = 0.1, d = 300 mm, time = 0.65\n",
    "\n"
   ]
  },
  {
   "cell_type": "code",
   "execution_count": null,
   "metadata": {
    "collapsed": false
   },
   "outputs": [],
   "source": [
    "y_predict = model.predict(X_realTT_norm)\n",
    "error_percent = (y_predict.reshape(-1) - y_realTT.reshape(-1))/y_realTT.reshape(-1)\n",
    "errpd = plt.hist(error_percent,4000,normed=True)\n",
    "plt.xlim([-2, 2])"
   ]
  },
  {
   "cell_type": "code",
   "execution_count": null,
   "metadata": {
    "collapsed": false
   },
   "outputs": [],
   "source": [
    "y_predict = model.predict(X_realTT_norm)\n",
    "error_percent = (y_predict.reshape(-1) - y_realTT.reshape(-1)/4)/(y_realTT.reshape(-1)/4)\n",
    "errpd = plt.hist(error_percent,4000,normed=True)\n",
    "plt.xlim([-2, 2])"
   ]
  },
  {
   "cell_type": "code",
   "execution_count": null,
   "metadata": {
    "collapsed": false
   },
   "outputs": [],
   "source": [
    "y_predict = model.predict(X_realTT_norm)\n",
    "error_percent = (y_predict.reshape(-1) - y_realTT.reshape(-1))/y_realTT.reshape(-1)\n",
    "errpd = plt.hist(error_percent,4000,normed=True)\n",
    "plt.xlim([-2, 6])"
   ]
  },
  {
   "cell_type": "markdown",
   "metadata": {},
   "source": [
    "$\\phi$ = 0.1, d = 75 mm, time = 0.7\n",
    "\n",
    "\n"
   ]
  },
  {
   "cell_type": "code",
   "execution_count": null,
   "metadata": {
    "collapsed": false
   },
   "outputs": [],
   "source": [
    "y_predict = model.predict(X_realTT_norm)\n",
    "error_percent = (y_predict.reshape(-1) - y_realTT.reshape(-1))/y_realTT.reshape(-1)\n",
    "errpd = plt.hist(error_percent,4000,normed=True)\n",
    "plt.xlim([-2, 2])"
   ]
  },
  {
   "cell_type": "code",
   "execution_count": null,
   "metadata": {
    "collapsed": false
   },
   "outputs": [],
   "source": [
    "model.predict(np.zeros([1,108]))"
   ]
  },
  {
   "cell_type": "code",
   "execution_count": null,
   "metadata": {
    "collapsed": false
   },
   "outputs": [],
   "source": [
    "pred = model.predict(np.identity(108)*0.01)"
   ]
  },
  {
   "cell_type": "code",
   "execution_count": null,
   "metadata": {
    "collapsed": false
   },
   "outputs": [],
   "source": [
    "np.argsort(np.abs(model.predict(np.identity(109)*0.001) - model.predict(np.zeros([1,109]))).reshape(-1))[::-1] + 1"
   ]
  },
  {
   "cell_type": "code",
   "execution_count": null,
   "metadata": {
    "collapsed": false
   },
   "outputs": [],
   "source": [
    "np.argsort(np.abs(model.predict(np.identity(108)*0.1) - model.predict(np.zeros([1,108]))).reshape(-1))[::-1]"
   ]
  },
  {
   "cell_type": "code",
   "execution_count": null,
   "metadata": {
    "collapsed": false
   },
   "outputs": [],
   "source": [
    "np.argsort(np.abs(model.predict(np.identity(109)*(-0.01)) - model.predict(np.zeros([1,109]))).reshape(-1))[::-1]"
   ]
  },
  {
   "cell_type": "code",
   "execution_count": null,
   "metadata": {
    "collapsed": false
   },
   "outputs": [],
   "source": [
    "a = np.argsort(np.abs(model.predict(np.identity(109)*(0.3)) - model.predict(np.zeros([1,109]))).reshape(-1))[::-1] "
   ]
  },
  {
   "cell_type": "code",
   "execution_count": null,
   "metadata": {
    "collapsed": false
   },
   "outputs": [],
   "source": [
    "a"
   ]
  },
  {
   "cell_type": "code",
   "execution_count": null,
   "metadata": {
    "collapsed": false
   },
   "outputs": [],
   "source": [
    "np.array([x%4 if x!=0 else 4 for x in a ])"
   ]
  },
  {
   "cell_type": "code",
   "execution_count": null,
   "metadata": {
    "collapsed": false
   },
   "outputs": [],
   "source": [
    "X_test_norm[:,0]"
   ]
  },
  {
   "cell_type": "code",
   "execution_count": null,
   "metadata": {
    "collapsed": false
   },
   "outputs": [],
   "source": [
    "y1 = model.predict(np.hstack([np.ones((108,1))*(-0.32329676),np.identity(108)*(-0.001)]))"
   ]
  },
  {
   "cell_type": "code",
   "execution_count": null,
   "metadata": {
    "collapsed": false
   },
   "outputs": [],
   "source": [
    "y2 = model.predict(np.hstack([np.ones((108,1))*(-0.32329676),np.identity(108)*(1)]))"
   ]
  },
  {
   "cell_type": "code",
   "execution_count": null,
   "metadata": {
    "collapsed": false
   },
   "outputs": [],
   "source": [
    "np.argsort(np.abs(y1.reshape(-1)-y2.reshape(-1)))[::-1]%4"
   ]
  },
  {
   "cell_type": "code",
   "execution_count": null,
   "metadata": {
    "collapsed": false
   },
   "outputs": [],
   "source": [
    "X_test_norm[:,2]"
   ]
  },
  {
   "cell_type": "code",
   "execution_count": null,
   "metadata": {
    "collapsed": true
   },
   "outputs": [],
   "source": []
  }
 ],
 "metadata": {
  "kernelspec": {
   "display_name": "Python 3",
   "language": "python",
   "name": "python3"
  },
  "language_info": {
   "codemirror_mode": {
    "name": "ipython",
    "version": 3
   },
   "file_extension": ".py",
   "mimetype": "text/x-python",
   "name": "python",
   "nbconvert_exporter": "python",
   "pygments_lexer": "ipython3",
   "version": "3.5.2"
  }
 },
 "nbformat": 4,
 "nbformat_minor": 2
}
