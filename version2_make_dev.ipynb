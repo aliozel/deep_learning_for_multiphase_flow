{
 "cells": [
  {
   "cell_type": "code",
   "execution_count": 1,
   "metadata": {
    "collapsed": true
   },
   "outputs": [],
   "source": [
    "import pickle\n",
    "import numpy as np\n",
    "from sklearn.model_selection import train_test_split"
   ]
  },
  {
   "cell_type": "code",
   "execution_count": null,
   "metadata": {
    "collapsed": false
   },
   "outputs": [],
   "source": [
    "home = '/home/nandhini/aozel/periodicBox'\n",
    "phi=0.1\n",
    "\n",
    "data_signature1 = 'fsize' + str(9)+'phi'+str(phi)+'dp'+str(75)+'timestep'+str(0.625)\n",
    "data_signature2 = 'fsize' + str(13)+'phi'+str(phi)+'dp'+str(75)+'timestep'+str(0.55)\n",
    "data_signature3 = 'fsize' + str(9)+'phi'+str(phi)+'dp'+str(300)+'timestep'+str(0.525)\n",
    "data_signature4 = 'fsize' + str(11)+'phi'+str(phi)+'dp'+str(150)+'timestep'+str(0.65)\n",
    "\n",
    "\n",
    "\n",
    "\n",
    "file_myData1 = \"corrected_myDataFSUslip\"+data_signature1+\".pickle\"\n",
    "file_myData2 = \"corrected_myDataFSUslip\"+data_signature2+\".pickle\"\n",
    "file_myData3 = \"corrected_myDataFSUslip\"+data_signature3+\".pickle\"\n",
    "file_myData4 = \"corrected_myDataFSUslip\"+data_signature4+\".pickle\"\n",
    "\n",
    "\n",
    "\n",
    "\n",
    "\n",
    "\n",
    "file_target1 = \"corrected_targetFSUslip\"+data_signature1+\".pickle\"\n",
    "file_target2 = \"corrected_targetFSUslip\"+data_signature2+\".pickle\"\n",
    "file_target3 = \"corrected_targetFSUslip\"+data_signature3+\".pickle\"\n",
    "file_target4 = \"corrected_targetFSUslip\"+data_signature4+\".pickle\"\n",
    "\n",
    "\n",
    "\n",
    "\n",
    "\n",
    "myData1 = pickle.load( open( file_myData1, \"rb\" ) )\n",
    "myData2 = pickle.load( open( file_myData2, \"rb\" ) )\n",
    "myData3 = pickle.load( open( file_myData3, \"rb\" ) )\n",
    "myData4 = pickle.load( open( file_myData4, \"rb\" ) )\n",
    "\n",
    "\n",
    "myData = np.vstack((myData1, myData2, myData3, myData4))\n",
    "                \n",
    "\n",
    "target1 = pickle.load( open( file_target1, \"rb\" ) )\n",
    "target2 = pickle.load( open( file_target2, \"rb\" ) )\n",
    "target3 = pickle.load( open( file_target3, \"rb\" ) )\n",
    "target4 = pickle.load( open( file_target4, \"rb\" ) )\n",
    "\n",
    "\n",
    "\n",
    "target = np.vstack((target1.reshape(-1,1),target2.reshape(-1,1),\n",
    "                    target3.reshape(-1,1),target4.reshape(-1,1)\n",
    "                   ))"
   ]
  },
  {
   "cell_type": "code",
   "execution_count": 6,
   "metadata": {
    "collapsed": false
   },
   "outputs": [],
   "source": [
    "X_train, X_test, y_train, y_test = train_test_split(myData, target, test_size=0.01, random_state=42)"
   ]
  },
  {
   "cell_type": "code",
   "execution_count": 7,
   "metadata": {
    "collapsed": false
   },
   "outputs": [
    {
     "data": {
      "text/plain": [
       "(77389, 109)"
      ]
     },
     "execution_count": 7,
     "metadata": {},
     "output_type": "execute_result"
    }
   ],
   "source": [
    "X_test.shape"
   ]
  },
  {
   "cell_type": "code",
   "execution_count": 9,
   "metadata": {
    "collapsed": false
   },
   "outputs": [],
   "source": [
    "file_myData = \"corrected_myDataFSUslipdevset.pickle\"\n",
    "file_target = \"corrected_targetFSUslipdevset.pickle\"\n",
    "pickle.dump( X_test, open( file_myData, \"wb\" ) )\n",
    "pickle.dump( y_test, open( file_target, \"wb\" ) )"
   ]
  },
  {
   "cell_type": "code",
   "execution_count": null,
   "metadata": {
    "collapsed": true
   },
   "outputs": [],
   "source": []
  }
 ],
 "metadata": {
  "kernelspec": {
   "display_name": "Python 3",
   "language": "python",
   "name": "python3"
  },
  "language_info": {
   "codemirror_mode": {
    "name": "ipython",
    "version": 3
   },
   "file_extension": ".py",
   "mimetype": "text/x-python",
   "name": "python",
   "nbconvert_exporter": "python",
   "pygments_lexer": "ipython3",
   "version": "3.5.2"
  }
 },
 "nbformat": 4,
 "nbformat_minor": 2
}
