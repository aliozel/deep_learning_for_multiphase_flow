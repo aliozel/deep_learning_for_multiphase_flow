{
 "cells": [
  {
   "cell_type": "code",
   "execution_count": 1,
   "metadata": {
    "collapsed": false
   },
   "outputs": [
    {
     "name": "stderr",
     "output_type": "stream",
     "text": [
      "Using Theano backend.\n"
     ]
    }
   ],
   "source": [
    "import keras as k\n",
    "import scipy\n",
    "import numpy as np\n",
    "import pandas as pd"
   ]
  },
  {
   "cell_type": "code",
   "execution_count": 2,
   "metadata": {
    "collapsed": true
   },
   "outputs": [],
   "source": [
    "import numpy as np\n",
    "import pandas as pd\n",
    "\n",
    "import pickle\n"
   ]
  },
  {
   "cell_type": "code",
   "execution_count": 3,
   "metadata": {
    "collapsed": false
   },
   "outputs": [],
   "source": [
    "def dumpfiles(home, fsize, dp, timestep, phi=0.1, cohesion=''):\n",
    "    if dp == 75:\n",
    "        home = home + '/alpp' + str(phi) + cohesion +'/CFD/' + str(timestep) + '/'\n",
    "    else:\n",
    "        home = home + '/alpp' + str(phi) + 'dp' + str(dp) + 'mm' + cohesion + '/CFD/' + str(timestep) + '/'\n",
    "    alpp_file = 'barAlpp' + str(fsize) + 'X' + str(fsize) + 'X' + str(fsize)\n",
    "    alpp = pd.read_csv(home+alpp_file,skiprows=21,skipfooter=33)\n",
    "    numpy_alpp = alpp.values\n",
    "\n",
    "    Us_file = 'tildeUs' + str(fsize) + 'X' + str(fsize) + 'X' + str(fsize)\n",
    "    Us = pd.read_csv(home+Us_file,skiprows=21,skipfooter=33)\n",
    "    Us = Us.values\n",
    "    numpy_Us = np.array([[float(x[0].split()[0][1:]), float(x[0].split()[1]), float(x[0].split()[2][:-1])] for x in Us])\n",
    "\n",
    "    Uf_file = 'tildeUf' + str(fsize) + 'X' + str(fsize) + 'X' + str(fsize)\n",
    "    Uf = pd.read_csv(home+Uf_file,skiprows=21,skipfooter=33)\n",
    "    Uf = Uf.values\n",
    "    numpy_Uf = np.array([[float(x[0].split()[0][1:]), float(x[0].split()[1]), float(x[0].split()[2][:-1])] for x in Uf])\n",
    "\n",
    "    numpy_Uslip = numpy_Uf - numpy_Us\n",
    "\n",
    "    betaNum_file = 'normalizedEulerianDragCoeffNum' + str(fsize) + 'X' + str(fsize) + 'X' + str(fsize)\n",
    "    betaNum = pd.read_csv(home+betaNum_file,skiprows=19,skipfooter=4)\n",
    "    betaNum = betaNum.values\n",
    "    numpy_betaNum = np.array([[float(x[0].split()[0][1:]), float(x[0].split()[1]), float(x[0].split()[2][:-1])] for x in betaNum])\n",
    "\n",
    "    betaDom_file = 'normalizedEulerianDragCoeffDom' + str(fsize) + 'X' + str(fsize) + 'X' + str(fsize)\n",
    "    betaDom = pd.read_csv(home+betaDom_file,skiprows=19,skipfooter=4)\n",
    "    betaDom = betaDom.values\n",
    "    numpy_betaDom = np.array([[float(x[0].split()[0][1:]), float(x[0].split()[1]), float(x[0].split()[2][:-1])] for x in betaDom])\n",
    "\n",
    "    numpy_ratio = numpy_betaNum / numpy_betaDom\n",
    "\n",
    "    original_table = np.concatenate((numpy_alpp,numpy_Uslip ),axis=1)\n",
    "\n",
    "    nx = 80\n",
    "    ny = 80\n",
    "    nz = 320\n",
    "    dx = 1\n",
    "\n",
    "    index1=0\n",
    "    npData=4\n",
    "\n",
    "    myData = np.zeros( ((nx-2*fsize)*(ny-2*fsize)*(nz-2*fsize), npData * (2*dx +1)**3) );\n",
    "    target = np.zeros((nx-2*fsize)*(ny-2*fsize)*(nz-2*fsize))\n",
    "    for k in range(fsize,nz-fsize):\n",
    "        for j in range(fsize,ny-fsize):\n",
    "            for i in range(fsize,nx-fsize):\n",
    "                target[index1] = numpy_ratio[k*ny*nx+j*nx + i,-1]\n",
    "                index2 = 0;\n",
    "                for ii in np.array(range(-dx,dx+1))*fsize:\n",
    "                    for jj in np.array(range(-dx,dx+1))*fsize:\n",
    "                        for kk in np.array(range(-dx,dx+1))*fsize:\n",
    "                            stencil= i+ii + (j+jj)*nx + (k+kk)*nx*ny;\n",
    "                            #target[index1] = numpy_ratio[stencil,-1]\n",
    "                            temp = original_table[stencil][:]\n",
    "                            for ind in range(npData):\n",
    "                                myData[index1,index2] = temp[ind];\n",
    "                                index2 = index2 + 1\n",
    "                index1 = index1 +1   \n",
    "    myData = np.hstack((np.ones((myData.shape[0],1))*(1/(3*fsize)),myData))\n",
    "    file_myData = \"coarse_corrected_myData\"+'fsize' + str(fsize)+'phi'+str(phi)+'dp'+str(dp)+'timestep'+str(timestep)+cohesion+\".pickle\"\n",
    "    file_target = \"coarse_corrected_target\"+'fsize' + str(fsize)+'phi'+str(phi)+'dp'+str(dp)+'timestep'+str(timestep)+cohesion+\".pickle\"\n",
    "    pickle.dump( myData, open( file_myData, \"wb\" ) )\n",
    "    pickle.dump( target, open( file_target, \"wb\" ) )\n",
    "    return myData"
   ]
  },
  {
   "cell_type": "code",
   "execution_count": 4,
   "metadata": {
    "collapsed": false
   },
   "outputs": [],
   "source": [
    "home = '/home/nandhini/aozel/periodicBox'"
   ]
  },
  {
   "cell_type": "code",
   "execution_count": 5,
   "metadata": {
    "collapsed": false
   },
   "outputs": [
    {
     "data": {
      "text/plain": [
       "array([ 0,  5, 10, 15, 20])"
      ]
     },
     "execution_count": 5,
     "metadata": {},
     "output_type": "execute_result"
    }
   ],
   "source": [
    "np.array(range(5))*5"
   ]
  },
  {
   "cell_type": "code",
   "execution_count": 6,
   "metadata": {
    "collapsed": false
   },
   "outputs": [
    {
     "name": "stderr",
     "output_type": "stream",
     "text": [
      "/home/hema/yile/anaconda3/lib/python3.5/site-packages/ipykernel/__main__.py:7: ParserWarning: Falling back to the 'python' engine because the 'c' engine does not support skipfooter; you can avoid this warning by specifying engine='python'.\n",
      "/home/hema/yile/anaconda3/lib/python3.5/site-packages/ipykernel/__main__.py:11: ParserWarning: Falling back to the 'python' engine because the 'c' engine does not support skipfooter; you can avoid this warning by specifying engine='python'.\n",
      "/home/hema/yile/anaconda3/lib/python3.5/site-packages/ipykernel/__main__.py:16: ParserWarning: Falling back to the 'python' engine because the 'c' engine does not support skipfooter; you can avoid this warning by specifying engine='python'.\n",
      "/home/hema/yile/anaconda3/lib/python3.5/site-packages/ipykernel/__main__.py:23: ParserWarning: Falling back to the 'python' engine because the 'c' engine does not support skipfooter; you can avoid this warning by specifying engine='python'.\n",
      "/home/hema/yile/anaconda3/lib/python3.5/site-packages/ipykernel/__main__.py:28: ParserWarning: Falling back to the 'python' engine because the 'c' engine does not support skipfooter; you can avoid this warning by specifying engine='python'.\n"
     ]
    },
    {
     "data": {
      "text/plain": [
       "array([[ 0.03703704,  0.230587  , -0.0086263 , ..., -0.070758  ,\n",
       "         0.32467   ,  0.2527    ],\n",
       "       [ 0.03703704,  0.206693  , -0.0127582 , ..., -0.041225  ,\n",
       "         0.357411  ,  0.25337   ],\n",
       "       [ 0.03703704,  0.184211  , -0.011387  , ..., -0.024309  ,\n",
       "         0.379778  ,  0.288913  ],\n",
       "       ..., \n",
       "       [ 0.03703704,  0.126365  , -0.074374  , ..., -0.0033628 ,\n",
       "        -0.014422  ,  0.2751854 ],\n",
       "       [ 0.03703704,  0.11769   , -0.07724   , ..., -0.0031229 ,\n",
       "        -0.036414  ,  0.3293481 ],\n",
       "       [ 0.03703704,  0.109757  , -0.07738   , ..., -0.0028622 ,\n",
       "        -0.062837  ,  0.3788935 ]])"
      ]
     },
     "execution_count": 6,
     "metadata": {},
     "output_type": "execute_result"
    }
   ],
   "source": [
    "dumpfiles(home=home, dp = 75, timestep=0.625, fsize=9)"
   ]
  },
  {
   "cell_type": "code",
   "execution_count": null,
   "metadata": {
    "collapsed": true
   },
   "outputs": [],
   "source": []
  },
  {
   "cell_type": "code",
   "execution_count": 7,
   "metadata": {
    "collapsed": false
   },
   "outputs": [
    {
     "name": "stderr",
     "output_type": "stream",
     "text": [
      "/home/hema/yile/anaconda3/lib/python3.5/site-packages/ipykernel/__main__.py:7: ParserWarning: Falling back to the 'python' engine because the 'c' engine does not support skipfooter; you can avoid this warning by specifying engine='python'.\n",
      "/home/hema/yile/anaconda3/lib/python3.5/site-packages/ipykernel/__main__.py:11: ParserWarning: Falling back to the 'python' engine because the 'c' engine does not support skipfooter; you can avoid this warning by specifying engine='python'.\n",
      "/home/hema/yile/anaconda3/lib/python3.5/site-packages/ipykernel/__main__.py:16: ParserWarning: Falling back to the 'python' engine because the 'c' engine does not support skipfooter; you can avoid this warning by specifying engine='python'.\n",
      "/home/hema/yile/anaconda3/lib/python3.5/site-packages/ipykernel/__main__.py:23: ParserWarning: Falling back to the 'python' engine because the 'c' engine does not support skipfooter; you can avoid this warning by specifying engine='python'.\n",
      "/home/hema/yile/anaconda3/lib/python3.5/site-packages/ipykernel/__main__.py:28: ParserWarning: Falling back to the 'python' engine because the 'c' engine does not support skipfooter; you can avoid this warning by specifying engine='python'.\n"
     ]
    },
    {
     "data": {
      "text/plain": [
       "array([[ 0.03703704,  0.114923  , -0.1191323 , ..., -0.057862  ,\n",
       "        -0.1197702 ,  0.291328  ],\n",
       "       [ 0.03703704,  0.124813  , -0.1114868 , ..., -0.04323   ,\n",
       "        -0.1658468 ,  0.354388  ],\n",
       "       [ 0.03703704,  0.140511  , -0.102522  , ..., -0.02952   ,\n",
       "        -0.2140763 ,  0.410842  ],\n",
       "       ..., \n",
       "       [ 0.03703704,  0.124654  , -0.0093858 , ..., -0.0780957 ,\n",
       "        -0.008342  ,  0.2064529 ],\n",
       "       [ 0.03703704,  0.124777  , -0.0013003 , ..., -0.0954066 ,\n",
       "         0.012342  ,  0.1889113 ],\n",
       "       [ 0.03703704,  0.124716  ,  0.0077737 , ..., -0.1013464 ,\n",
       "         0.017948  ,  0.1816744 ]])"
      ]
     },
     "execution_count": 7,
     "metadata": {},
     "output_type": "execute_result"
    }
   ],
   "source": [
    "dumpfiles(home=home, dp = 75, timestep=0.6, fsize=9)"
   ]
  },
  {
   "cell_type": "code",
   "execution_count": 8,
   "metadata": {
    "collapsed": false
   },
   "outputs": [
    {
     "name": "stderr",
     "output_type": "stream",
     "text": [
      "/home/hema/yile/anaconda3/lib/python3.5/site-packages/ipykernel/__main__.py:7: ParserWarning: Falling back to the 'python' engine because the 'c' engine does not support skipfooter; you can avoid this warning by specifying engine='python'.\n",
      "/home/hema/yile/anaconda3/lib/python3.5/site-packages/ipykernel/__main__.py:11: ParserWarning: Falling back to the 'python' engine because the 'c' engine does not support skipfooter; you can avoid this warning by specifying engine='python'.\n",
      "/home/hema/yile/anaconda3/lib/python3.5/site-packages/ipykernel/__main__.py:16: ParserWarning: Falling back to the 'python' engine because the 'c' engine does not support skipfooter; you can avoid this warning by specifying engine='python'.\n",
      "/home/hema/yile/anaconda3/lib/python3.5/site-packages/ipykernel/__main__.py:23: ParserWarning: Falling back to the 'python' engine because the 'c' engine does not support skipfooter; you can avoid this warning by specifying engine='python'.\n",
      "/home/hema/yile/anaconda3/lib/python3.5/site-packages/ipykernel/__main__.py:28: ParserWarning: Falling back to the 'python' engine because the 'c' engine does not support skipfooter; you can avoid this warning by specifying engine='python'.\n"
     ]
    },
    {
     "data": {
      "text/plain": [
       "array([[ 0.03703704,  0.0582802 ,  0.094314  , ...,  0.0649755 ,\n",
       "         0.062222  ,  0.548808  ],\n",
       "       [ 0.03703704,  0.0474097 ,  0.09588   , ...,  0.0332442 ,\n",
       "         0.074784  ,  0.520395  ],\n",
       "       [ 0.03703704,  0.0439463 ,  0.083854  , ...,  0.0057229 ,\n",
       "         0.086508  ,  0.5021791 ],\n",
       "       ..., \n",
       "       [ 0.03703704,  0.0222066 , -0.215335  , ...,  0.072252  ,\n",
       "        -0.04714   ,  0.2628945 ],\n",
       "       [ 0.03703704,  0.0230297 , -0.205018  , ...,  0.075174  ,\n",
       "        -0.045654  ,  0.2771941 ],\n",
       "       [ 0.03703704,  0.0268985 , -0.191544  , ...,  0.074278  ,\n",
       "        -0.049834  ,  0.2916091 ]])"
      ]
     },
     "execution_count": 8,
     "metadata": {},
     "output_type": "execute_result"
    }
   ],
   "source": [
    "dumpfiles(home=home, dp = 75, timestep=0.7, fsize=9)"
   ]
  },
  {
   "cell_type": "code",
   "execution_count": 9,
   "metadata": {
    "collapsed": false
   },
   "outputs": [
    {
     "name": "stderr",
     "output_type": "stream",
     "text": [
      "/home/hema/yile/anaconda3/lib/python3.5/site-packages/ipykernel/__main__.py:7: ParserWarning: Falling back to the 'python' engine because the 'c' engine does not support skipfooter; you can avoid this warning by specifying engine='python'.\n",
      "/home/hema/yile/anaconda3/lib/python3.5/site-packages/ipykernel/__main__.py:11: ParserWarning: Falling back to the 'python' engine because the 'c' engine does not support skipfooter; you can avoid this warning by specifying engine='python'.\n",
      "/home/hema/yile/anaconda3/lib/python3.5/site-packages/ipykernel/__main__.py:16: ParserWarning: Falling back to the 'python' engine because the 'c' engine does not support skipfooter; you can avoid this warning by specifying engine='python'.\n",
      "/home/hema/yile/anaconda3/lib/python3.5/site-packages/ipykernel/__main__.py:23: ParserWarning: Falling back to the 'python' engine because the 'c' engine does not support skipfooter; you can avoid this warning by specifying engine='python'.\n",
      "/home/hema/yile/anaconda3/lib/python3.5/site-packages/ipykernel/__main__.py:28: ParserWarning: Falling back to the 'python' engine because the 'c' engine does not support skipfooter; you can avoid this warning by specifying engine='python'.\n"
     ]
    },
    {
     "data": {
      "text/plain": [
       "array([[ 0.06666667,  0.00961373,  0.354591  , ...,  0.0615098 ,\n",
       "         0.035254  ,  0.190559  ],\n",
       "       [ 0.06666667,  0.00772786,  0.4121811 , ...,  0.0633542 ,\n",
       "         0.021586  ,  0.154867  ],\n",
       "       [ 0.06666667,  0.00739368,  0.4522285 , ...,  0.048813  ,\n",
       "         0.02662   ,  0.174492  ],\n",
       "       ..., \n",
       "       [ 0.06666667,  0.403978  , -0.0196353 , ...,  0.382031  ,\n",
       "        -0.0034673 ,  0.616264  ],\n",
       "       [ 0.06666667,  0.34984   , -0.0213037 , ...,  0.410277  ,\n",
       "        -0.0648016 ,  0.669441  ],\n",
       "       [ 0.06666667,  0.27485   ,  0.0027843 , ...,  0.462399  ,\n",
       "        -0.112788  ,  0.725422  ]])"
      ]
     },
     "execution_count": 9,
     "metadata": {},
     "output_type": "execute_result"
    }
   ],
   "source": [
    "dumpfiles(home=home, dp = 75, timestep=0.525, fsize=5)"
   ]
  },
  {
   "cell_type": "code",
   "execution_count": 10,
   "metadata": {
    "collapsed": false
   },
   "outputs": [
    {
     "name": "stderr",
     "output_type": "stream",
     "text": [
      "/home/hema/yile/anaconda3/lib/python3.5/site-packages/ipykernel/__main__.py:7: ParserWarning: Falling back to the 'python' engine because the 'c' engine does not support skipfooter; you can avoid this warning by specifying engine='python'.\n",
      "/home/hema/yile/anaconda3/lib/python3.5/site-packages/ipykernel/__main__.py:11: ParserWarning: Falling back to the 'python' engine because the 'c' engine does not support skipfooter; you can avoid this warning by specifying engine='python'.\n",
      "/home/hema/yile/anaconda3/lib/python3.5/site-packages/ipykernel/__main__.py:16: ParserWarning: Falling back to the 'python' engine because the 'c' engine does not support skipfooter; you can avoid this warning by specifying engine='python'.\n",
      "/home/hema/yile/anaconda3/lib/python3.5/site-packages/ipykernel/__main__.py:23: ParserWarning: Falling back to the 'python' engine because the 'c' engine does not support skipfooter; you can avoid this warning by specifying engine='python'.\n",
      "/home/hema/yile/anaconda3/lib/python3.5/site-packages/ipykernel/__main__.py:28: ParserWarning: Falling back to the 'python' engine because the 'c' engine does not support skipfooter; you can avoid this warning by specifying engine='python'.\n"
     ]
    },
    {
     "data": {
      "text/plain": [
       "array([[ 0.03030303,  0.128717  , -0.0749342 , ...,  0.0181596 ,\n",
       "        -0.01421   ,  0.5041056 ],\n",
       "       [ 0.03030303,  0.141367  , -0.0780457 , ...,  0.036606  ,\n",
       "        -0.009898  ,  0.5521645 ],\n",
       "       [ 0.03030303,  0.15204   , -0.0771852 , ...,  0.0533389 ,\n",
       "        -0.00127   ,  0.5869266 ],\n",
       "       ..., \n",
       "       [ 0.03030303,  0.174937  ,  0.0159567 , ..., -0.0647433 ,\n",
       "        -0.020179  ,  0.241384  ],\n",
       "       [ 0.03030303,  0.172694  ,  0.0094184 , ..., -0.0712214 ,\n",
       "        -0.000952  ,  0.2085918 ],\n",
       "       [ 0.03030303,  0.170591  ,  0.002817  , ..., -0.0772145 ,\n",
       "         0.013073  ,  0.183299  ]])"
      ]
     },
     "execution_count": 10,
     "metadata": {},
     "output_type": "execute_result"
    }
   ],
   "source": [
    "dumpfiles(home=home, fsize=11, phi=0.1, dp = 75, timestep=0.6, cohesion='')"
   ]
  },
  {
   "cell_type": "code",
   "execution_count": 11,
   "metadata": {
    "collapsed": false
   },
   "outputs": [
    {
     "name": "stderr",
     "output_type": "stream",
     "text": [
      "/home/hema/yile/anaconda3/lib/python3.5/site-packages/ipykernel/__main__.py:7: ParserWarning: Falling back to the 'python' engine because the 'c' engine does not support skipfooter; you can avoid this warning by specifying engine='python'.\n",
      "/home/hema/yile/anaconda3/lib/python3.5/site-packages/ipykernel/__main__.py:11: ParserWarning: Falling back to the 'python' engine because the 'c' engine does not support skipfooter; you can avoid this warning by specifying engine='python'.\n",
      "/home/hema/yile/anaconda3/lib/python3.5/site-packages/ipykernel/__main__.py:16: ParserWarning: Falling back to the 'python' engine because the 'c' engine does not support skipfooter; you can avoid this warning by specifying engine='python'.\n",
      "/home/hema/yile/anaconda3/lib/python3.5/site-packages/ipykernel/__main__.py:23: ParserWarning: Falling back to the 'python' engine because the 'c' engine does not support skipfooter; you can avoid this warning by specifying engine='python'.\n",
      "/home/hema/yile/anaconda3/lib/python3.5/site-packages/ipykernel/__main__.py:28: ParserWarning: Falling back to the 'python' engine because the 'c' engine does not support skipfooter; you can avoid this warning by specifying engine='python'.\n"
     ]
    },
    {
     "data": {
      "text/plain": [
       "array([[ 0.03030303,  0.2223    , -0.031492  , ..., -0.0202239 ,\n",
       "         0.0291037 ,  0.0652781 ],\n",
       "       [ 0.03030303,  0.224511  , -0.022484  , ..., -0.0192515 ,\n",
       "         0.0265676 ,  0.0656268 ],\n",
       "       [ 0.03030303,  0.221862  , -0.0179641 , ..., -0.0177232 ,\n",
       "         0.0253244 ,  0.0675742 ],\n",
       "       ..., \n",
       "       [ 0.03030303,  0.029731  , -0.196301  , ..., -0.0692438 ,\n",
       "         0.0015691 ,  0.0778637 ],\n",
       "       [ 0.03030303,  0.0292404 , -0.232076  , ..., -0.05278357,\n",
       "        -0.0014087 ,  0.07824342],\n",
       "       [ 0.03030303,  0.0301711 , -0.27459   , ..., -0.038886  ,\n",
       "        -0.0028511 ,  0.072438  ]])"
      ]
     },
     "execution_count": 11,
     "metadata": {},
     "output_type": "execute_result"
    }
   ],
   "source": [
    "dumpfiles(home=home, dp = 75, timestep=0.55, fsize=11)"
   ]
  },
  {
   "cell_type": "code",
   "execution_count": 12,
   "metadata": {
    "collapsed": false
   },
   "outputs": [
    {
     "name": "stderr",
     "output_type": "stream",
     "text": [
      "/home/hema/yile/anaconda3/lib/python3.5/site-packages/ipykernel/__main__.py:7: ParserWarning: Falling back to the 'python' engine because the 'c' engine does not support skipfooter; you can avoid this warning by specifying engine='python'.\n",
      "/home/hema/yile/anaconda3/lib/python3.5/site-packages/ipykernel/__main__.py:11: ParserWarning: Falling back to the 'python' engine because the 'c' engine does not support skipfooter; you can avoid this warning by specifying engine='python'.\n",
      "/home/hema/yile/anaconda3/lib/python3.5/site-packages/ipykernel/__main__.py:16: ParserWarning: Falling back to the 'python' engine because the 'c' engine does not support skipfooter; you can avoid this warning by specifying engine='python'.\n",
      "/home/hema/yile/anaconda3/lib/python3.5/site-packages/ipykernel/__main__.py:23: ParserWarning: Falling back to the 'python' engine because the 'c' engine does not support skipfooter; you can avoid this warning by specifying engine='python'.\n",
      "/home/hema/yile/anaconda3/lib/python3.5/site-packages/ipykernel/__main__.py:28: ParserWarning: Falling back to the 'python' engine because the 'c' engine does not support skipfooter; you can avoid this warning by specifying engine='python'.\n"
     ]
    },
    {
     "data": {
      "text/plain": [
       "array([[ 0.03703704,  0.0698447 ,  0.1437161 , ...,  0.035647  ,\n",
       "        -0.1694075 ,  1.094199  ],\n",
       "       [ 0.03703704,  0.0779965 ,  0.13907313, ...,  0.0433859 ,\n",
       "        -0.1645355 ,  1.075394  ],\n",
       "       [ 0.03703704,  0.0854055 ,  0.128037  , ...,  0.05148814,\n",
       "        -0.1616661 ,  1.047913  ],\n",
       "       ..., \n",
       "       [ 0.03703704,  0.0239554 , -0.344855  , ...,  0.04649728,\n",
       "         0.1291158 ,  1.20989   ],\n",
       "       [ 0.03703704,  0.0271261 , -0.326684  , ...,  0.06992359,\n",
       "         0.1326442 ,  1.123998  ],\n",
       "       [ 0.03703704,  0.0306656 , -0.30749   , ...,  0.07945092,\n",
       "         0.1406738 ,  1.05465   ]])"
      ]
     },
     "execution_count": 12,
     "metadata": {},
     "output_type": "execute_result"
    }
   ],
   "source": [
    "dumpfiles(home=home, dp = 150, timestep=0.6, fsize=9)"
   ]
  },
  {
   "cell_type": "code",
   "execution_count": 13,
   "metadata": {
    "collapsed": false
   },
   "outputs": [
    {
     "name": "stderr",
     "output_type": "stream",
     "text": [
      "/home/hema/yile/anaconda3/lib/python3.5/site-packages/ipykernel/__main__.py:7: ParserWarning: Falling back to the 'python' engine because the 'c' engine does not support skipfooter; you can avoid this warning by specifying engine='python'.\n",
      "/home/hema/yile/anaconda3/lib/python3.5/site-packages/ipykernel/__main__.py:11: ParserWarning: Falling back to the 'python' engine because the 'c' engine does not support skipfooter; you can avoid this warning by specifying engine='python'.\n",
      "/home/hema/yile/anaconda3/lib/python3.5/site-packages/ipykernel/__main__.py:16: ParserWarning: Falling back to the 'python' engine because the 'c' engine does not support skipfooter; you can avoid this warning by specifying engine='python'.\n",
      "/home/hema/yile/anaconda3/lib/python3.5/site-packages/ipykernel/__main__.py:23: ParserWarning: Falling back to the 'python' engine because the 'c' engine does not support skipfooter; you can avoid this warning by specifying engine='python'.\n",
      "/home/hema/yile/anaconda3/lib/python3.5/site-packages/ipykernel/__main__.py:28: ParserWarning: Falling back to the 'python' engine because the 'c' engine does not support skipfooter; you can avoid this warning by specifying engine='python'.\n"
     ]
    },
    {
     "data": {
      "text/plain": [
       "array([[ 0.03703704,  0.0421904 , -0.8809473 , ..., -0.2320782 ,\n",
       "         0.4740697 ,  2.49543   ],\n",
       "       [ 0.03703704,  0.0379718 , -0.9577835 , ..., -0.2342683 ,\n",
       "         0.4487102 ,  2.355529  ],\n",
       "       [ 0.03703704,  0.0353677 , -1.0089139 , ..., -0.2254859 ,\n",
       "         0.40496027,  2.147869  ],\n",
       "       ..., \n",
       "       [ 0.03703704,  0.03029   ,  0.16992   , ..., -0.6021199 ,\n",
       "         0.416458  ,  2.489093  ],\n",
       "       [ 0.03703704,  0.0296433 ,  0.194342  , ..., -0.6665588 ,\n",
       "         0.360399  ,  2.827832  ],\n",
       "       [ 0.03703704,  0.0319479 ,  0.204868  , ..., -0.744278  ,\n",
       "         0.289237  ,  3.131793  ]])"
      ]
     },
     "execution_count": 13,
     "metadata": {},
     "output_type": "execute_result"
    }
   ],
   "source": [
    "dumpfiles(home=home, dp = 300, timestep=0.65, fsize=9)"
   ]
  },
  {
   "cell_type": "code",
   "execution_count": null,
   "metadata": {
    "collapsed": false
   },
   "outputs": [],
   "source": [
    "#dumpfiles(home=home, dp = 150, timestep=0.62, fsize=11)"
   ]
  },
  {
   "cell_type": "code",
   "execution_count": null,
   "metadata": {
    "collapsed": false
   },
   "outputs": [
    {
     "name": "stderr",
     "output_type": "stream",
     "text": [
      "/home/hema/yile/anaconda3/lib/python3.5/site-packages/ipykernel/__main__.py:7: ParserWarning: Falling back to the 'python' engine because the 'c' engine does not support skipfooter; you can avoid this warning by specifying engine='python'.\n",
      "/home/hema/yile/anaconda3/lib/python3.5/site-packages/ipykernel/__main__.py:11: ParserWarning: Falling back to the 'python' engine because the 'c' engine does not support skipfooter; you can avoid this warning by specifying engine='python'.\n",
      "/home/hema/yile/anaconda3/lib/python3.5/site-packages/ipykernel/__main__.py:16: ParserWarning: Falling back to the 'python' engine because the 'c' engine does not support skipfooter; you can avoid this warning by specifying engine='python'.\n",
      "/home/hema/yile/anaconda3/lib/python3.5/site-packages/ipykernel/__main__.py:23: ParserWarning: Falling back to the 'python' engine because the 'c' engine does not support skipfooter; you can avoid this warning by specifying engine='python'.\n",
      "/home/hema/yile/anaconda3/lib/python3.5/site-packages/ipykernel/__main__.py:28: ParserWarning: Falling back to the 'python' engine because the 'c' engine does not support skipfooter; you can avoid this warning by specifying engine='python'.\n"
     ]
    }
   ],
   "source": [
    "dumpfiles(home=home, dp = 75, timestep=0.55, fsize=13)"
   ]
  },
  {
   "cell_type": "code",
   "execution_count": null,
   "metadata": {
    "collapsed": false
   },
   "outputs": [],
   "source": [
    "dumpfiles(home=home, dp = 300, timestep=0.525, fsize=9)"
   ]
  },
  {
   "cell_type": "code",
   "execution_count": null,
   "metadata": {
    "collapsed": false
   },
   "outputs": [],
   "source": [
    "dumpfiles(home=home, dp = 150, timestep=0.65, fsize=11)"
   ]
  },
  {
   "cell_type": "code",
   "execution_count": null,
   "metadata": {
    "collapsed": false
   },
   "outputs": [],
   "source": [
    "dumpfiles(home=home, dp = 75, timestep=0.65, fsize=9)"
   ]
  },
  {
   "cell_type": "code",
   "execution_count": null,
   "metadata": {
    "collapsed": false
   },
   "outputs": [],
   "source": [
    "dumpfiles(home=home, dp = 150, timestep=0.55, fsize=9)"
   ]
  },
  {
   "cell_type": "code",
   "execution_count": null,
   "metadata": {
    "collapsed": false
   },
   "outputs": [],
   "source": [
    "dumpfiles(home=home, dp = 300, timestep=0.6, fsize=9)"
   ]
  },
  {
   "cell_type": "code",
   "execution_count": null,
   "metadata": {
    "collapsed": false
   },
   "outputs": [],
   "source": [
    "dumpfiles(home=home, dp = 150, timestep=0.525, fsize=11)"
   ]
  },
  {
   "cell_type": "code",
   "execution_count": null,
   "metadata": {
    "collapsed": false
   },
   "outputs": [],
   "source": [
    "dumpfiles(home=home, dp = 75, timestep=0.65, fsize=13)"
   ]
  },
  {
   "cell_type": "code",
   "execution_count": null,
   "metadata": {
    "collapsed": false
   },
   "outputs": [],
   "source": [
    "dumpfiles(home=home, dp = 75, timestep=0.325, fsize=13,phi=0.3, cohesion='HighCoh')"
   ]
  },
  {
   "cell_type": "code",
   "execution_count": null,
   "metadata": {
    "collapsed": true
   },
   "outputs": [],
   "source": []
  }
 ],
 "metadata": {
  "kernelspec": {
   "display_name": "Python 3",
   "language": "python",
   "name": "python3"
  },
  "language_info": {
   "codemirror_mode": {
    "name": "ipython",
    "version": 3
   },
   "file_extension": ".py",
   "mimetype": "text/x-python",
   "name": "python",
   "nbconvert_exporter": "python",
   "pygments_lexer": "ipython3",
   "version": "3.5.2"
  }
 },
 "nbformat": 4,
 "nbformat_minor": 2
}
