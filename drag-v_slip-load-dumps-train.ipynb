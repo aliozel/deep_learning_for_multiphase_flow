{
 "cells": [
  {
   "cell_type": "code",
   "execution_count": 20,
   "metadata": {
    "collapsed": false
   },
   "outputs": [],
   "source": [
    "import keras as k\n",
    "import scipy"
   ]
  },
  {
   "cell_type": "code",
   "execution_count": 13,
   "metadata": {
    "collapsed": true
   },
   "outputs": [],
   "source": [
    "import numpy as np\n",
    "import pandas as pd\n",
    "from sklearn.model_selection import train_test_split\n",
    "from sklearn.ensemble import RandomForestRegressor, GradientBoostingRegressor\n",
    "from sklearn.preprocessing import StandardScaler\n",
    "from keras.callbacks import ModelCheckpoint, EarlyStopping\n",
    "from keras.models import model_from_json\n",
    "\n",
    "from keras.models import Sequential\n",
    "from keras.layers import Dense, Activation\n",
    "import pickle\n",
    "import matplotlib.pyplot as plt\n",
    "%matplotlib inline"
   ]
  },
  {
   "cell_type": "markdown",
   "metadata": {},
   "source": [
    "dumpfiles(home=home, fsize=9, phi=0.1, dp = 75, timestep=0.6)\n",
    "\n",
    "dumpfiles(home=home, fsize=9, phi=0.1, dp = 75, timestep=0.65)\n",
    "\n",
    "dumpfiles(home=home, fsize=9, phi=0.1, dp = 150, timestep=0.65)\n",
    "\n",
    "dumpfiles(home=home, fsize=9, phi=0.1, dp = 300, timestep=0.65)\n",
    "\n",
    "dumpfiles(home=home, fsize=9, phi=0.3, dp = 75, timestep=0.425)"
   ]
  },
  {
   "cell_type": "code",
   "execution_count": null,
   "metadata": {
    "collapsed": false
   },
   "outputs": [],
   "source": [
    "home = '/home/nandhini/aozel/periodicBox'\n",
    "fsize = 9\n",
    "phi=0.1\n",
    "dp = 75\n",
    "\n",
    "data_signature1 = 'fsize' + str(fsize)+'phi'+str(phi)+'dp'+str(dp)+'timestep'+str(0.6)\n",
    "data_signature2 = 'fsize' + str(fsize)+'phi'+str(phi)+'dp'+str(dp)+'timestep'+str(0.7)\n",
    "data_signature3 = 'fsize' + str(9)+'phi'+str(0.3)+'dp'+str(75)+'timestep'+str(0.4)\n",
    "data_signature4 = 'fsize' + str(9)+'phi'+str(0.1)+'dp'+str(300)+'timestep'+str(0.65)\n",
    "data_signature5 = 'fsize' + str(9)+'phi'+str(0.1)+'dp'+str(150)+'timestep'+str(0.65)\n",
    "data_signature6 = 'fsize' + str(9)+'phi'+str(0.3)+'dp'+str(75)+'timestep'+str(0.3) + 'HighCoh'\n",
    "\n",
    "\n",
    "\n",
    "\n",
    "file_myData1 = \"myDataUslip\"+data_signature1+\".pickle\"\n",
    "file_myData2 = \"myDataUslip\"+data_signature2+\".pickle\"\n",
    "file_myData3 = \"myDataUslip\"+data_signature3+\".pickle\"\n",
    "file_myData4 = \"myDataUslip\"+data_signature4+\".pickle\"\n",
    "file_myData5 = \"myDataUslip\"+data_signature5+\".pickle\"\n",
    "file_myData6 = \"myDataUslip\"+data_signature6+\".pickle\"\n",
    "\n",
    "\n",
    "\n",
    "\n",
    "\n",
    "file_target1 = \"targetUslip\"+data_signature1+\".pickle\"\n",
    "file_target2 = \"targetUslip\"+data_signature2+\".pickle\"\n",
    "file_target3 = \"targetUslip\"+data_signature3+\".pickle\"\n",
    "file_target4 = \"targetUslip\"+data_signature4+\".pickle\"\n",
    "file_target5 = \"targetUslip\"+data_signature5+\".pickle\"\n",
    "file_target6 = \"targetUslip\"+data_signature6+\".pickle\"\n",
    "\n",
    "\n",
    "\n",
    "\n",
    "myData1 = pickle.load( open( file_myData1, \"rb\" ) )\n",
    "myData2 = pickle.load( open( file_myData2, \"rb\" ) )\n",
    "myData3 = pickle.load( open( file_myData3, \"rb\" ) )\n",
    "myData4 = pickle.load( open( file_myData4, \"rb\" ) )\n",
    "myData5 = pickle.load( open( file_myData5, \"rb\" ) )\n",
    "myData6 = pickle.load( open( file_myData6, \"rb\" ) )\n",
    "\n",
    "\n",
    "myData = np.vstack((myData1, myData2, myData3, myData4, myData5, myData6))\n",
    "                \n",
    "\n",
    "target1 = pickle.load( open( file_target1, \"rb\" ) )\n",
    "target2 = pickle.load( open( file_target2, \"rb\" ) )\n",
    "target3 = pickle.load( open( file_target3, \"rb\" ) )\n",
    "target4 = pickle.load( open( file_target4, \"rb\" ) )\n",
    "target5 = pickle.load( open( file_target5, \"rb\" ) )\n",
    "target6 = pickle.load( open( file_target6, \"rb\" ) )\n",
    "\n",
    "\n",
    "target = np.vstack((target1.reshape(-1,1),target2.reshape(-1,1),\n",
    "                    target3.reshape(-1,1),target4.reshape(-1,1),target5.reshape(-1,1),\n",
    "                    target6.reshape(-1,1)\n",
    "                   ))"
   ]
  },
  {
   "cell_type": "code",
   "execution_count": 4,
   "metadata": {
    "collapsed": false
   },
   "outputs": [
    {
     "data": {
      "text/plain": [
       "((11608272, 108), (11608272, 1))"
      ]
     },
     "execution_count": 4,
     "metadata": {},
     "output_type": "execute_result"
    }
   ],
   "source": [
    "myData.shape, target.shape"
   ]
  },
  {
   "cell_type": "code",
   "execution_count": 5,
   "metadata": {
    "collapsed": false
   },
   "outputs": [],
   "source": [
    "X_train, X_test, y_train, y_test = train_test_split(myData, target, test_size=0.02, random_state=42)\n",
    "X_realCV, X_realTT, y_realCV, y_realTT = train_test_split(X_test, y_test, test_size=0.5, random_state=42)"
   ]
  },
  {
   "cell_type": "code",
   "execution_count": 6,
   "metadata": {
    "collapsed": false
   },
   "outputs": [],
   "source": [
    "scaler = StandardScaler()\n",
    "scaler.fit(X_train)\n",
    "pickle.dump( scaler, open( 'scale'+data_signature1, \"wb\" ) )\n",
    "X_train_norm = scaler.transform(X_train)\n",
    "X_realCV_norm = scaler.transform(X_realCV)\n",
    "X_realTT_norm = scaler.transform(X_realTT)"
   ]
  },
  {
   "cell_type": "code",
   "execution_count": 19,
   "metadata": {
    "collapsed": false
   },
   "outputs": [
    {
     "name": "stderr",
     "output_type": "stream",
     "text": [
      "/home/hema/yile/anaconda3/lib/python3.5/site-packages/sklearn/utils/deprecation.py:70: DeprecationWarning: Function std_ is deprecated; Attribute ``std_`` will be removed in 0.19. Use ``scale_`` instead\n",
      "  warnings.warn(msg, category=DeprecationWarning)\n"
     ]
    }
   ],
   "source": [
    "np.savetxt(\"drag_std.csv\", scaler.std_, delimiter=\",\")\n",
    "np.savetxt(\"drag_mean.csv\", scaler.mean_, delimiter=\",\")"
   ]
  },
  {
   "cell_type": "code",
   "execution_count": null,
   "metadata": {
    "collapsed": false
   },
   "outputs": [
    {
     "data": {
      "text/plain": [
       "((11376106, 108), (116083, 108), (116083, 108))"
      ]
     },
     "execution_count": 7,
     "metadata": {},
     "output_type": "execute_result"
    }
   ],
   "source": [
    "X_train_norm.shape, X_realCV_norm.shape, X_realTT_norm.shape"
   ]
  },
  {
   "cell_type": "code",
   "execution_count": 55,
   "metadata": {
    "collapsed": false
   },
   "outputs": [],
   "source": [
    "model = Sequential()\n",
    "model.add(Dense(100, activation='relu', kernel_initializer='normal',input_dim=X_train_norm.shape[-1]))\n",
    "model.add(Dense(100, activation='relu', kernel_initializer='normal'))\n",
    "model.add(Dense(100, activation='relu', kernel_initializer='normal'))\n",
    "model.add(Dense(100, activation='relu', kernel_initializer='normal'))\n",
    "model.add(Dense(100, activation='relu', kernel_initializer='normal'))\n",
    "model.add(Dense(100, activation='relu', kernel_initializer='normal'))\n",
    "model.add(Dense(100, activation='relu', kernel_initializer='normal'))\n",
    "model.add(Dense(64, activation='relu', kernel_initializer='normal'))\n",
    "model.add(Dense(64, activation='relu', kernel_initializer='normal'))\n",
    "model.add(Dense(64, activation='relu', kernel_initializer='normal'))\n",
    "model.add(Dense(32, activation='relu', kernel_initializer='normal'))\n",
    "model.add(Dense(16, activation='relu', kernel_initializer='normal'))\n",
    "model.add(Dense(8, activation='relu', kernel_initializer='normal'))\n",
    "model.add(Dense(4, activation='relu', kernel_initializer='normal'))\n",
    "model.add(Dense(1, activation='linear', kernel_initializer='normal'))\n",
    "model.compile(loss='mean_absolute_error', optimizer='Adam')\n",
    "save_file = 'weights_Uslip3'+ data_signature1 + '.hdf5'\n",
    "model.load_weights(save_file)\n",
    "checkpointer = ModelCheckpoint(filepath=save_file, verbose=1, save_best_only=True)\n",
    "#model.fit(X_train_norm, y_train, batch_size=1000, epochs=40, verbose=1, validation_data=(X_realCV_norm, y_realCV), callbacks=[checkpointer])"
   ]
  },
  {
   "cell_type": "code",
   "execution_count": 56,
   "metadata": {
    "collapsed": true
   },
   "outputs": [],
   "source": [
    "# serialize model to JSON\n",
    "model_json = model.to_json()\n",
    "with open(\"drag2.json\", \"w\") as json_file:\n",
    "    json_file.write(model_json)"
   ]
  },
  {
   "cell_type": "code",
   "execution_count": 15,
   "metadata": {
    "collapsed": false
   },
   "outputs": [
    {
     "data": {
      "text/plain": [
       "'fsize9phi0.1dp75timestep0.6'"
      ]
     },
     "execution_count": 15,
     "metadata": {},
     "output_type": "execute_result"
    }
   ],
   "source": [
    "data_signature1"
   ]
  },
  {
   "cell_type": "code",
   "execution_count": 52,
   "metadata": {
    "collapsed": false
   },
   "outputs": [
    {
     "data": {
      "text/plain": [
       "array([[ 1.28914738]], dtype=float32)"
      ]
     },
     "execution_count": 52,
     "metadata": {},
     "output_type": "execute_result"
    }
   ],
   "source": [
    "model.predict(np.array([[2.70287, 0.0280261, 1.23125, -0.769839, 2.70308, 0.0279703, 1.23075, -0.769849, 2.70327, 0.0278884, 1.23002, -0.769865, 2.70358, 0.0282558, 1.23087, -0.769851, 2.70378, 0.0281992, 1.23037, -0.769862, 2.70398, 0.0281165, 1.22965, -0.769879, 2.7043, 0.0284953, 1.23039, -0.769917, 2.70451, 0.0284387, 1.2299, -0.76993, 2.70471, 0.0283554, 1.22919, -0.769949, 2.70326, 0.0279363, 1.23085, -0.769817, 2.70346, 0.027879, 1.23035, -0.769827, 2.70366, 0.027796, 1.22961, -0.769845, 2.70396, 0.0281659, 1.23047, -0.769828, 2.70417, 0.0281084, 1.22998, -0.76984, 2.70437, 0.0280249, 1.22925, -0.769858, 2.70468, 0.0284036, 1.22999, -0.769895, 2.70489, 0.0283462, 1.22951, -0.769908, 2.70509, 0.0282624, 1.22879, -0.769928, 2.70362, 0.0278401, 1.2305, -0.769814, 2.70383, 0.0277819, 1.22999, -0.769825, 2.70403, 0.0276979, 1.22925, -0.769844, 2.70432, 0.028069, 1.23012, -0.769824, 2.70453, 0.0280113, 1.22962, -0.769836, 2.70473, 0.0279274, 1.22889, -0.769856, 2.70504, 0.0283043, 1.22965, -0.769891, 2.70525, 0.028247, 1.22915, -0.769905, 2.70545, 0.0281631, 1.22843, -0.769926]]))"
   ]
  },
  {
   "cell_type": "code",
   "execution_count": 53,
   "metadata": {
    "collapsed": false
   },
   "outputs": [],
   "source": [
    "a = np.array([[-1.16182, 0.0280261, 1.23125, -0.769839, -1.16181, 0.0279703, 1.23075, -0.769849, -1.16182, 0.0278884, 1.23002, -0.769865, -1.16182, 0.0282558, 1.23087, -0.769851, -1.16182, 0.0281992, 1.23037, -0.769862, -1.16183, 0.0281165, 1.22965, -0.769879, -1.16177, 0.0284953, 1.23039, -0.769917, -1.16177, 0.0284387, 1.2299, -0.76993, -1.16178, 0.0283554, 1.22919, -0.769949, -1.16171, 0.0279363, 1.23085, -0.769817, -1.16171, 0.027879, 1.23035, -0.769827, -1.16171, 0.027796, 1.22961, -0.769845, -1.16171, 0.0281659, 1.23047, -0.769828, -1.16171, 0.0281084, 1.22998, -0.76984, -1.16172, 0.0280249, 1.22925, -0.769858, -1.16166, 0.0284036, 1.22999, -0.769895, -1.16166, 0.0283462, 1.22951, -0.769908, -1.16167, 0.0282624, 1.22879, -0.769928, -1.16162, 0.0278401, 1.2305, -0.769814, -1.16161, 0.0277819, 1.22999, -0.769825, -1.16162, 0.0276979, 1.22925, -0.769844, -1.16161, 0.028069, 1.23012, -0.769824, -1.16161, 0.0280113, 1.22962, -0.769836, -1.16162, 0.0279274, 1.22889, -0.769856, -1.16156, 0.0283043, 1.22965, -0.769891, -1.16156, 0.028247, 1.22915, -0.769905, -1.16157, 0.0281631, 1.22843, -0.769926]])"
   ]
  },
  {
   "cell_type": "code",
   "execution_count": 54,
   "metadata": {
    "collapsed": false
   },
   "outputs": [
    {
     "data": {
      "text/plain": [
       "array([[-0.33250952]], dtype=float32)"
      ]
     },
     "execution_count": 54,
     "metadata": {},
     "output_type": "execute_result"
    }
   ],
   "source": [
    "model.predict(a)"
   ]
  },
  {
   "cell_type": "code",
   "execution_count": null,
   "metadata": {
    "collapsed": true
   },
   "outputs": [],
   "source": [
    "model = Sequential()\n",
    "\n",
    "model.add(Dense(100, activation='relu', kernel_initializer='normal',input_dim=X_train_norm.shape[-1]))\n",
    "model.add(Dense(100, activation='relu', kernel_initializer='normal'))\n",
    "model.add(Dense(100, activation='relu', kernel_initializer='normal'))\n",
    "model.add(Dense(100, activation='relu', kernel_initializer='normal'))\n",
    "model.add(Dense(100, activation='relu', kernel_initializer='normal'))\n",
    "model.add(Dense(100, activation='relu', kernel_initializer='normal'))\n",
    "model.add(Dense(100, activation='relu', kernel_initializer='normal'))\n",
    "model.add(Dense(64, activation='relu', kernel_initializer='normal'))\n",
    "model.add(Dense(64, activation='relu', kernel_initializer='normal'))\n",
    "model.add(Dense(64, activation='relu', kernel_initializer='normal'))\n",
    "model.add(Dense(32, activation='relu', kernel_initializer='normal'))\n",
    "model.add(Dense(16, activation='relu', kernel_initializer='normal'))\n",
    "model.add(Dense(8, activation='relu', kernel_initializer='normal'))\n",
    "model.add(Dense(4, activation='relu', kernel_initializer='normal'))\n",
    "model.add(Dense(1, activation='linear', kernel_initializer='normal'))\n",
    "model.compile(loss='mean_absolute_error', optimizer='Adam')\n",
    "save_file = 'weights_Uslip3'+ data_signature1 + '.hdf5'\n",
    "model.load_weights(save_file)\n",
    "checkpointer = ModelCheckpoint(filepath=save_file, verbose=1, save_best_only=True)\n",
    "#model.fit(X_train_norm, y_train, batch_size=1000, epochs=40, verbose=1, validation_data=(X_realCV_norm, y_realCV), callbacks=[checkpointer])"
   ]
  },
  {
   "cell_type": "code",
   "execution_count": null,
   "metadata": {
    "collapsed": true
   },
   "outputs": [],
   "source": [
    "# serialize model to JSON\n",
    "model_json = model.to_json()\n",
    "with open(\"drag2.json\", \"w\") as json_file:\n",
    "    json_file.write(model_json)"
   ]
  },
  {
   "cell_type": "code",
   "execution_count": null,
   "metadata": {
    "collapsed": true
   },
   "outputs": [],
   "source": []
  },
  {
   "cell_type": "code",
   "execution_count": 57,
   "metadata": {
    "collapsed": true
   },
   "outputs": [],
   "source": [
    "model = Sequential()\n",
    "model.add(Dense(100,input_dim=108))\n",
    "model.add(Activation('relu'))\n",
    "model.add(Dense(100))\n",
    "model.add(Activation('relu'))\n",
    "model.add(Dense(100))\n",
    "model.add(Activation('relu'))\n",
    "model.add(Dense(100))\n",
    "model.add(Activation('relu'))\n",
    "model.add(Dense(100))\n",
    "model.add(Activation('relu'))\n",
    "model.add(Dense(100))\n",
    "model.add(Activation('relu'))\n",
    "model.add(Dense(100))\n",
    "model.add(Activation('relu'))\n",
    "\n",
    "model.add(Dense(64))\n",
    "model.add(Activation('relu'))\n",
    "model.add(Dense(64))\n",
    "model.add(Activation('relu'))\n",
    "model.add(Dense(64))\n",
    "model.add(Activation('relu'))\n",
    "\n",
    "model.add(Dense(32))\n",
    "model.add(Activation('relu'))\n",
    "\n",
    "model.add(Dense(16))\n",
    "model.add(Activation('relu'))\n",
    "\n",
    "model.add(Dense(8))\n",
    "model.add(Activation('relu'))\n",
    "\n",
    "model.add(Dense(4))\n",
    "model.add(Activation('relu'))\n",
    "\n",
    "model.add(Dense(1))\n",
    "model.compile(loss='mean_absolute_error', optimizer='Adam')\n",
    "save_file = 'weights_Uslip3'+ data_signature1 + '.hdf5'\n",
    "model.load_weights(save_file)"
   ]
  },
  {
   "cell_type": "code",
   "execution_count": 58,
   "metadata": {
    "collapsed": true
   },
   "outputs": [],
   "source": [
    "# serialize model to JSON\n",
    "model_json = model.to_json()\n",
    "with open(\"drag_correct.json\", \"w\") as json_file:\n",
    "    json_file.write(model_json)"
   ]
  },
  {
   "cell_type": "code",
   "execution_count": null,
   "metadata": {
    "collapsed": true
   },
   "outputs": [],
   "source": []
  },
  {
   "cell_type": "code",
   "execution_count": null,
   "metadata": {
    "collapsed": true
   },
   "outputs": [],
   "source": []
  }
 ],
 "metadata": {
  "kernelspec": {
   "display_name": "Python 3",
   "language": "python",
   "name": "python3"
  },
  "language_info": {
   "codemirror_mode": {
    "name": "ipython",
    "version": 3
   },
   "file_extension": ".py",
   "mimetype": "text/x-python",
   "name": "python",
   "nbconvert_exporter": "python",
   "pygments_lexer": "ipython3",
   "version": "3.5.2"
  }
 },
 "nbformat": 4,
 "nbformat_minor": 2
}
