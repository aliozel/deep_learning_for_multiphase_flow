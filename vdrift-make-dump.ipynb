{
 "cells": [
  {
   "cell_type": "code",
   "execution_count": 1,
   "metadata": {
    "collapsed": false
   },
   "outputs": [
    {
     "name": "stderr",
     "output_type": "stream",
     "text": [
      "Using Theano backend.\n"
     ]
    }
   ],
   "source": [
    "import keras as k\n",
    "import scipy\n",
    "import numpy as np\n",
    "import pandas as pd\n",
    "import pickle"
   ]
  },
  {
   "cell_type": "code",
   "execution_count": 2,
   "metadata": {
    "collapsed": true
   },
   "outputs": [],
   "source": [
    "def get_scaler_openfoam(home,file,fsize):\n",
    "    file = file + str(fsize) + 'X' + str(fsize) + 'X' + str(fsize)\n",
    "    data = pd.read_csv(home+file,skiprows=21,skipfooter=33)\n",
    "    data = data.values\n",
    "    return data\n",
    "    \n"
   ]
  },
  {
   "cell_type": "code",
   "execution_count": 3,
   "metadata": {
    "collapsed": true
   },
   "outputs": [],
   "source": [
    "def get_vector_openfoam(home,file,fsize):\n",
    "    file = file + str(fsize) + 'X' + str(fsize) + 'X' + str(fsize)\n",
    "    data = pd.read_csv(home+file,skiprows=21,skipfooter=33)\n",
    "    data = data.values\n",
    "    data = np.array([[float(x[0].split()[0][1:]), float(x[0].split()[1]), float(x[0].split()[2][:-1])] for x in data])\n",
    "    return data"
   ]
  },
  {
   "cell_type": "code",
   "execution_count": 4,
   "metadata": {
    "collapsed": false
   },
   "outputs": [],
   "source": [
    "def dumpfiles(home, fsize, timestep):\n",
    "    home = home + '/' + str(timestep) + '/'\n",
    "    numpy_barAlpp = get_scaler_openfoam(home,'barAlpp',fsize)\n",
    "    numpy_tildeUs = get_vector_openfoam(home,'tildeUs',fsize)\n",
    "    numpy_tildeUf = get_vector_openfoam(home,'tildeUf',fsize)\n",
    "    numpy_barAlppVdrift = get_vector_openfoam(home,'barAlppVdrift',fsize)\n",
    "    numpy_Xsgs = get_vector_openfoam(home,'Xsgs',fsize)\n",
    "    #numpy_Ysgs = get_vector_openfoam(home,'Ysgs',fsize)\n",
    "    \n",
    "    numpy_Uslip = numpy_tildeUf - numpy_tildeUs\n",
    "\n",
    "    original_table = np.concatenate((numpy_barAlpp,numpy_Uslip,numpy_barAlppVdrift ),axis=1)\n",
    "\n",
    "    nx = 80\n",
    "    ny = 80\n",
    "    nz = 320\n",
    "    dx = 1\n",
    "\n",
    "    index1=0\n",
    "    npData=original_table.shape[-1]\n",
    "\n",
    "    myData = np.zeros( ((nx-2)*(ny-2)*(nz-2), npData * (2*dx +1)**3) );\n",
    "    target = np.zeros((nx-2)*(ny-2)*(nz-2))\n",
    "    for i in range(1,nx-1):\n",
    "        for j in range(1,ny-1):\n",
    "            for k in range(1,nz-1):\n",
    "\n",
    "\n",
    "                index2 = 0;\n",
    "                for ii in range(-dx,dx+1):\n",
    "                    for jj in range(-dx,dx+1):\n",
    "                        for kk in range(-dx,dx+1):\n",
    "                            stencil= i+ii + (j+jj)*nx + (k+kk)*nx*ny;\n",
    "                            target[index1] = numpy_Xsgs[stencil,-1]\n",
    "                            temp = original_table[stencil][:]\n",
    "                            for ind in range(npData):\n",
    "                                myData[index1,index2] = temp[ind];\n",
    "                                index2 = index2 + 1\n",
    "                index1 = index1 +1   \n",
    "    myData = np.hstack((np.ones((myData.shape[0],1))*(1/(3*fsize)),myData))\n",
    "    file_myData = \"myData_vdrift\"+'fsize' + str(fsize)+'timestep'+str(timestep)+\".pickle\"\n",
    "    file_target = \"target_vdrift\"+'fsize' + str(fsize)+'timestep'+str(timestep)+\".pickle\"\n",
    "    pickle.dump( myData, open( file_myData, \"wb\" ) )\n",
    "    pickle.dump( target, open( file_target, \"wb\" ) )\n",
    "    return myData"
   ]
  },
  {
   "cell_type": "code",
   "execution_count": 5,
   "metadata": {
    "collapsed": false
   },
   "outputs": [],
   "source": [
    "home = '/home/nandhini/yundij/neural_network'"
   ]
  },
  {
   "cell_type": "code",
   "execution_count": 6,
   "metadata": {
    "collapsed": false
   },
   "outputs": [
    {
     "name": "stderr",
     "output_type": "stream",
     "text": [
      "/home/hema/yile/anaconda3/lib/python3.5/site-packages/ipykernel/__main__.py:3: ParserWarning: Falling back to the 'python' engine because the 'c' engine does not support skipfooter; you can avoid this warning by specifying engine='python'.\n",
      "  app.launch_new_instance()\n"
     ]
    },
    {
     "data": {
      "text/plain": [
       "array([[ 0.03703704,  0.0211182 ,  0.22789   , ..., -0.00156283,\n",
       "        -0.00074387, -0.00161213],\n",
       "       [ 0.03703704,  0.0214844 ,  0.210855  , ..., -0.00166211,\n",
       "        -0.00088517, -0.001806  ],\n",
       "       [ 0.03703704,  0.0220235 ,  0.187866  , ..., -0.00179665,\n",
       "        -0.00126672, -0.00254654],\n",
       "       ..., \n",
       "       [ 0.03703704,  0.0180045 ,  0.407704  , ..., -0.0028608 ,\n",
       "        -0.00115907, -0.00413342],\n",
       "       [ 0.03703704,  0.018138  ,  0.400299  , ..., -0.00270226,\n",
       "        -0.00113504, -0.00394154],\n",
       "       [ 0.03703704,  0.0186405 ,  0.379785  , ..., -0.00259585,\n",
       "        -0.00113334, -0.00370166]])"
      ]
     },
     "execution_count": 6,
     "metadata": {},
     "output_type": "execute_result"
    }
   ],
   "source": [
    "dumpfiles(home=home, fsize=9, timestep=0.3)"
   ]
  },
  {
   "cell_type": "code",
   "execution_count": 7,
   "metadata": {
    "collapsed": false
   },
   "outputs": [
    {
     "name": "stderr",
     "output_type": "stream",
     "text": [
      "/home/hema/yile/anaconda3/lib/python3.5/site-packages/ipykernel/__main__.py:3: ParserWarning: Falling back to the 'python' engine because the 'c' engine does not support skipfooter; you can avoid this warning by specifying engine='python'.\n",
      "  app.launch_new_instance()\n"
     ]
    },
    {
     "data": {
      "text/plain": [
       "array([[ 0.03703704,  0.0244372 ,  0.13822826, ..., -0.00286308,\n",
       "         0.00793548, -0.0097281 ],\n",
       "       [ 0.03703704,  0.0312508 ,  0.1224939 , ..., -0.00194016,\n",
       "         0.00752028, -0.00857356],\n",
       "       [ 0.03703704,  0.03814   ,  0.1003297 , ..., -0.00090292,\n",
       "         0.00641462, -0.00731541],\n",
       "       ..., \n",
       "       [ 0.03703704,  0.00585147,  0.2009544 , ..., -0.00043775,\n",
       "         0.00122347, -0.00256333],\n",
       "       [ 0.03703704,  0.00635617,  0.1652898 , ..., -0.0004965 ,\n",
       "         0.00202261, -0.00325184],\n",
       "       [ 0.03703704,  0.00728664,  0.1358431 , ..., -0.00073937,\n",
       "         0.00320754, -0.00456051]])"
      ]
     },
     "execution_count": 7,
     "metadata": {},
     "output_type": "execute_result"
    }
   ],
   "source": [
    "dumpfiles(home=home, fsize=9, timestep=0.4)"
   ]
  },
  {
   "cell_type": "code",
   "execution_count": 8,
   "metadata": {
    "collapsed": false
   },
   "outputs": [
    {
     "name": "stderr",
     "output_type": "stream",
     "text": [
      "/home/hema/yile/anaconda3/lib/python3.5/site-packages/ipykernel/__main__.py:3: ParserWarning: Falling back to the 'python' engine because the 'c' engine does not support skipfooter; you can avoid this warning by specifying engine='python'.\n",
      "  app.launch_new_instance()\n"
     ]
    },
    {
     "data": {
      "text/plain": [
       "array([[ 0.03703704,  0.153036  , -0.015017  , ..., -0.0017121 ,\n",
       "         0.00712525, -0.0309993 ],\n",
       "       [ 0.03703704,  0.142752  , -0.014868  , ..., -0.0018397 ,\n",
       "         0.00776543, -0.0298717 ],\n",
       "       [ 0.03703704,  0.141167  , -0.010747  , ..., -0.00203592,\n",
       "         0.00871564, -0.0289903 ],\n",
       "       ..., \n",
       "       [ 0.03703704,  0.199601  , -0.027002  , ...,  0.00306632,\n",
       "         0.00451806, -0.00962852],\n",
       "       [ 0.03703704,  0.187785  , -0.030488  , ...,  0.00427899,\n",
       "         0.00460013, -0.00845195],\n",
       "       [ 0.03703704,  0.172717  , -0.040815  , ...,  0.00469806,\n",
       "         0.00407464, -0.00703807]])"
      ]
     },
     "execution_count": 8,
     "metadata": {},
     "output_type": "execute_result"
    }
   ],
   "source": [
    "dumpfiles(home=home, fsize=9, timestep=0.35)"
   ]
  },
  {
   "cell_type": "code",
   "execution_count": null,
   "metadata": {
    "collapsed": true
   },
   "outputs": [],
   "source": []
  },
  {
   "cell_type": "code",
   "execution_count": null,
   "metadata": {
    "collapsed": false
   },
   "outputs": [],
   "source": [
    "dumpfiles(home=home, dp = 300, timestep=0.6, fsize=9)"
   ]
  },
  {
   "cell_type": "code",
   "execution_count": null,
   "metadata": {
    "collapsed": false
   },
   "outputs": [],
   "source": [
    "dumpfiles(home=home, dp = 150, timestep=0.55, fsize=11)"
   ]
  },
  {
   "cell_type": "code",
   "execution_count": null,
   "metadata": {
    "collapsed": false
   },
   "outputs": [],
   "source": [
    "dumpfiles(home=home, dp = 75, timestep=0.65, fsize=13)"
   ]
  },
  {
   "cell_type": "code",
   "execution_count": null,
   "metadata": {
    "collapsed": false
   },
   "outputs": [],
   "source": [
    "dumpfiles(home=home, dp = 75, timestep=0.325, fsize=13,phi=0.3, cohesion='HighCoh')"
   ]
  },
  {
   "cell_type": "code",
   "execution_count": null,
   "metadata": {
    "collapsed": true
   },
   "outputs": [],
   "source": []
  }
 ],
 "metadata": {
  "kernelspec": {
   "display_name": "Python 3",
   "language": "python",
   "name": "python3"
  },
  "language_info": {
   "codemirror_mode": {
    "name": "ipython",
    "version": 3
   },
   "file_extension": ".py",
   "mimetype": "text/x-python",
   "name": "python",
   "nbconvert_exporter": "python",
   "pygments_lexer": "ipython3",
   "version": "3.5.2"
  }
 },
 "nbformat": 4,
 "nbformat_minor": 2
}
