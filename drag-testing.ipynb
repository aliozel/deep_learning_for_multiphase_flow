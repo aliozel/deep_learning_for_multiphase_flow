{
 "cells": [
  {
   "cell_type": "code",
   "execution_count": 1,
   "metadata": {
    "collapsed": false
   },
   "outputs": [
    {
     "name": "stderr",
     "output_type": "stream",
     "text": [
      "Using Theano backend.\n"
     ]
    }
   ],
   "source": [
    "import keras as k\n",
    "import scipy"
   ]
  },
  {
   "cell_type": "code",
   "execution_count": 2,
   "metadata": {
    "collapsed": true
   },
   "outputs": [],
   "source": [
    "import numpy as np\n",
    "import pandas as pd\n",
    "from sklearn.model_selection import train_test_split\n",
    "from sklearn.ensemble import RandomForestRegressor\n",
    "from sklearn.preprocessing import StandardScaler\n",
    "from keras.callbacks import ModelCheckpoint\n",
    "\n",
    "from keras.models import Sequential\n",
    "from keras.layers import Dense, Activation\n",
    "import pickle\n",
    "import matplotlib.pyplot as plt\n",
    "%matplotlib inline"
   ]
  },
  {
   "cell_type": "code",
   "execution_count": 3,
   "metadata": {
    "collapsed": true
   },
   "outputs": [],
   "source": [
    "home = '/home/nandhini/aozel/periodicBox/alpp0.1/CFD/0.65/'\n",
    "#home = '/home/nandhini/aozel/periodicBox/alpp0.1dp300mm/CFD/0.65/'\n",
    "phi = 0.1\n",
    "dp = 75\n",
    "fsize = 9\n",
    "cohesion = ''"
   ]
  },
  {
   "cell_type": "code",
   "execution_count": null,
   "metadata": {
    "collapsed": false
   },
   "outputs": [],
   "source": [
    "alpp_file = 'barAlpp' + str(fsize) + 'X' + str(fsize) + 'X' + str(fsize)\n",
    "alpp = pd.read_csv(home+alpp_file,skiprows=21,skipfooter=33)\n",
    "numpy_alpp = alpp.values\n",
    "\n",
    "Us_file = 'tildeUs' + str(fsize) + 'X' + str(fsize) + 'X' + str(fsize)\n",
    "Us = pd.read_csv(home+Us_file,skiprows=21,skipfooter=33)\n",
    "Us = Us.values\n",
    "numpy_Us = np.array([[float(x[0].split()[0][1:]), float(x[0].split()[1]), float(x[0].split()[2][:-1])] for x in Us])\n",
    "\n",
    "Uf_file = 'tildeUf' + str(fsize) + 'X' + str(fsize) + 'X' + str(fsize)\n",
    "Uf = pd.read_csv(home+Uf_file,skiprows=21,skipfooter=33)\n",
    "Uf = Uf.values\n",
    "numpy_Uf = np.array([[float(x[0].split()[0][1:]), float(x[0].split()[1]), float(x[0].split()[2][:-1])] for x in Uf])"
   ]
  },
  {
   "cell_type": "code",
   "execution_count": null,
   "metadata": {
    "collapsed": false
   },
   "outputs": [],
   "source": [
    "numpy_alpp.shape, numpy_Us.shape, numpy_Uf.shape"
   ]
  },
  {
   "cell_type": "code",
   "execution_count": null,
   "metadata": {
    "collapsed": false
   },
   "outputs": [],
   "source": [
    "betaNum_file = 'normalizedEulerianDragCoeffNum' + str(fsize) + 'X' + str(fsize) + 'X' + str(fsize)\n",
    "betaNum = pd.read_csv(home+betaNum_file,skiprows=19,skipfooter=4)\n",
    "betaNum = betaNum.values\n",
    "numpy_betaNum = np.array([[float(x[0].split()[0][1:]), float(x[0].split()[1]), float(x[0].split()[2][:-1])] for x in betaNum])"
   ]
  },
  {
   "cell_type": "code",
   "execution_count": null,
   "metadata": {
    "collapsed": false
   },
   "outputs": [],
   "source": [
    "betaDom_file = 'normalizedEulerianDragCoeffDom' + str(fsize) + 'X' + str(fsize) + 'X' + str(fsize)\n",
    "betaDom = pd.read_csv(home+betaDom_file,skiprows=19,skipfooter=4)\n",
    "betaDom = betaDom.values\n",
    "numpy_betaDom = np.array([[float(x[0].split()[0][1:]), float(x[0].split()[1]), float(x[0].split()[2][:-1])] for x in betaDom])"
   ]
  },
  {
   "cell_type": "code",
   "execution_count": null,
   "metadata": {
    "collapsed": false
   },
   "outputs": [],
   "source": [
    "numpy_betaNum.shape, numpy_betaDom.shape"
   ]
  },
  {
   "cell_type": "code",
   "execution_count": null,
   "metadata": {
    "collapsed": false
   },
   "outputs": [],
   "source": [
    "numpy_ratio = numpy_betaNum / numpy_betaDom\n",
    "numpy_ratio.shape"
   ]
  },
  {
   "cell_type": "code",
   "execution_count": null,
   "metadata": {
    "collapsed": false
   },
   "outputs": [],
   "source": [
    "original_table = np.concatenate((numpy_alpp,numpy_Us, numpy_Uf ),axis=1)"
   ]
  },
  {
   "cell_type": "code",
   "execution_count": null,
   "metadata": {
    "collapsed": false
   },
   "outputs": [],
   "source": [
    "original_table.shape"
   ]
  },
  {
   "cell_type": "code",
   "execution_count": null,
   "metadata": {
    "collapsed": false
   },
   "outputs": [],
   "source": [
    "nx = 80\n",
    "ny = 80\n",
    "nz = 320\n",
    "dx = 1"
   ]
  },
  {
   "cell_type": "code",
   "execution_count": null,
   "metadata": {
    "collapsed": false
   },
   "outputs": [],
   "source": [
    "index1=0\n",
    "npData=7\n",
    "\n",
    "myData = np.zeros( ((nx-2)*(ny-2)*(nz-2), npData * (2*dx +1)**3) );\n",
    "target = np.zeros((nx-2)*(ny-2)*(nz-2))\n",
    "for i in range(1,nx-1):\n",
    "    for j in range(1,ny-1):\n",
    "        for k in range(1,nz-1):\n",
    "            \n",
    "            \n",
    "            index2 = 0;\n",
    "            for ii in range(-dx,dx+1):\n",
    "                for jj in range(-dx,dx+1):\n",
    "                    for kk in range(-dx,dx+1):\n",
    "                        stencil= i+ii + (j+jj)*nx + (k+kk)*nx*ny;\n",
    "                        target[index1] = numpy_ratio[stencil,-1]\n",
    "                        temp = original_table[stencil][:]\n",
    "                        for ind in range(npData):\n",
    "                            myData[index1,index2] = temp[ind];\n",
    "                            index2 = index2 + 1\n",
    "            index1 = index1 +1                   \n",
    "    print(i)"
   ]
  },
  {
   "cell_type": "code",
   "execution_count": null,
   "metadata": {
    "collapsed": false
   },
   "outputs": [],
   "source": [
    "myData.shape, target.shape"
   ]
  },
  {
   "cell_type": "code",
   "execution_count": null,
   "metadata": {
    "collapsed": false
   },
   "outputs": [],
   "source": [
    "\n",
    "pickle.dump( myData, open( \"myData\"+str(fsize)+'alpp'+str(phi)+'dp'+str(dp)+cohesion+\".pickle\", \"wb\" ) )\n",
    "pickle.dump( target, open( \"target\"+str(fsize)+'alpp'+str(phi)+'dp'+str(dp)+cohesion+\".pickle\", \"wb\" ) )"
   ]
  },
  {
   "cell_type": "code",
   "execution_count": 4,
   "metadata": {
    "collapsed": true
   },
   "outputs": [],
   "source": [
    "myData = pickle.load( open( \"myData\"+str(fsize)+'alpp'+str(phi)+'dp'+str(dp)+cohesion+\".pickle\", \"rb\" ) )\n",
    "target = pickle.load( open( \"target\"+str(fsize)+'alpp'+str(phi)+'dp'+str(dp)+cohseion+\".pickle\", \"rb\" ) )"
   ]
  },
  {
   "cell_type": "code",
   "execution_count": 5,
   "metadata": {
    "collapsed": false
   },
   "outputs": [],
   "source": [
    "X_train, X_test, y_train, y_test = train_test_split(myData, target, test_size=0.02, random_state=42)\n",
    "X_realCV, X_realTT, y_realCV, y_realTT = train_test_split(X_test, y_test, test_size=0.5, random_state=42)"
   ]
  },
  {
   "cell_type": "code",
   "execution_count": 6,
   "metadata": {
    "collapsed": false
   },
   "outputs": [],
   "source": [
    "scaler = StandardScaler()\n",
    "scaler.fit(X_train)\n",
    "X_train_norm = scaler.transform(X_train)\n",
    "X_realCV_norm = scaler.transform(X_realCV)\n",
    "X_realTT_norm = scaler.transform(X_realTT)"
   ]
  },
  {
   "cell_type": "code",
   "execution_count": 7,
   "metadata": {
    "collapsed": false
   },
   "outputs": [
    {
     "data": {
      "text/plain": [
       "((1896017, 189), (19347, 189), (19348, 189))"
      ]
     },
     "execution_count": 7,
     "metadata": {},
     "output_type": "execute_result"
    }
   ],
   "source": [
    "X_train_norm.shape, X_realCV_norm.shape, X_realTT_norm.shape"
   ]
  },
  {
   "cell_type": "code",
   "execution_count": 8,
   "metadata": {
    "collapsed": false
   },
   "outputs": [],
   "source": [
    "#nn = MLPRegressor(hidden_layer_sizes=(100,))"
   ]
  },
  {
   "cell_type": "code",
   "execution_count": null,
   "metadata": {
    "collapsed": true
   },
   "outputs": [],
   "source": []
  },
  {
   "cell_type": "code",
   "execution_count": 9,
   "metadata": {
    "collapsed": false
   },
   "outputs": [],
   "source": [
    "model = Sequential()\n",
    "\n",
    "model.add(Dense(160, activation='relu', kernel_initializer='normal',input_dim=X_train_norm.shape[-1]))\n",
    "model.add(Dense(160, activation='relu', kernel_initializer='normal'))\n",
    "model.add(Dense(160, activation='relu', kernel_initializer='normal'))\n",
    "model.add(Dense(160, activation='relu', kernel_initializer='normal'))\n",
    "model.add(Dense(80, activation='relu', kernel_initializer='normal'))\n",
    "model.add(Dense(64,kernel_initializer='normal', activation='relu'))\n",
    "model.add(Dense(64,kernel_initializer='normal', activation='relu'))\n",
    "model.add(Dense(32,kernel_initializer='normal', activation='relu'))\n",
    "model.add(Dense(16, kernel_initializer='normal',activation='relu'))\n",
    "model.add(Dense(8,kernel_initializer='normal', activation='relu'))\n",
    "model.add(Dense(4,kernel_initializer='normal', activation='relu'))\n",
    "model.add(Dense(1,kernel_initializer='normal', activation='linear'))\n",
    "model.compile(loss='mean_absolute_error', optimizer='Adadelta')\n",
    "file1 = 'weights' + 'alpp0.1' + 'dp75' + 'fsize' + str(fsize) + '.hdf5'\n",
    "model.load_weights(file1)\n",
    "#checkpointer = ModelCheckpoint(filepath=file1, verbose=1, save_best_only=True)\n",
    "#model.fit(X_train_norm, y_train, batch_size=128, epochs=40, verbose=1, validation_data=(X_realCV_norm, y_realCV), callbacks=[checkpointer])"
   ]
  },
  {
   "cell_type": "code",
   "execution_count": null,
   "metadata": {
    "collapsed": false
   },
   "outputs": [],
   "source": [
    "#nn = MLPRegressor(hidden_layer_sizes=(100,),max_iter=2)\n",
    "#nn.fit(X_train_norm, y_train)"
   ]
  },
  {
   "cell_type": "code",
   "execution_count": null,
   "metadata": {
    "collapsed": false
   },
   "outputs": [],
   "source": [
    "y_predict = model.predict(X_realTT_norm)"
   ]
  },
  {
   "cell_type": "code",
   "execution_count": null,
   "metadata": {
    "collapsed": false
   },
   "outputs": [],
   "source": [
    "plt.plot(y_realTT.reshape(-1),y_predict.reshape(-1),'o')\n",
    "plt.xlim([0,1])\n",
    "plt.ylim([0,1])"
   ]
  },
  {
   "cell_type": "code",
   "execution_count": null,
   "metadata": {
    "collapsed": false
   },
   "outputs": [],
   "source": [
    "plt.hist(y_predict,1000,normed=True);\n",
    "plt.xlim([0,2])"
   ]
  },
  {
   "cell_type": "code",
   "execution_count": null,
   "metadata": {
    "collapsed": false
   },
   "outputs": [],
   "source": [
    "real = y_realTT.reshape(-1)\n",
    "pred = y_predict.reshape(-1)\n",
    "real"
   ]
  },
  {
   "cell_type": "code",
   "execution_count": null,
   "metadata": {
    "collapsed": false
   },
   "outputs": [],
   "source": [
    "real.shape, pred.shape"
   ]
  },
  {
   "cell_type": "code",
   "execution_count": null,
   "metadata": {
    "collapsed": false
   },
   "outputs": [],
   "source": [
    "real = y_realTT.reshape(-1)\n",
    "pred = y_predict.reshape(-1)\n",
    "pred = pred[(real<2) & (real>0)]\n",
    "real = real[(real<2) & (real>0)]\n",
    "scipy.stats.pearsonr(pred,real)"
   ]
  },
  {
   "cell_type": "code",
   "execution_count": null,
   "metadata": {
    "collapsed": false
   },
   "outputs": [],
   "source": [
    "scipy.stats.pearsonr(pred,real)"
   ]
  },
  {
   "cell_type": "code",
   "execution_count": 12,
   "metadata": {
    "collapsed": false
   },
   "outputs": [
    {
     "data": {
      "text/plain": [
       "(-2, 2)"
      ]
     },
     "execution_count": 12,
     "metadata": {},
     "output_type": "execute_result"
    },
    {
     "data": {
      "image/png": "[encoded data removed]",
      "text/plain": [
       "<matplotlib.figure.Figure at 0x7f6dc18f0320>"
      ]
     },
     "metadata": {},
     "output_type": "display_data"
    }
   ],
   "source": [
    "y_predict = model.predict(X_realTT_norm)\n",
    "error_percent = (y_predict.reshape(-1) - y_realTT.reshape(-1))/y_realTT.reshape(-1)\n",
    "errpd = plt.hist(error_percent,2000,normed=True)\n",
    "plt.xlim([-2, 2])"
   ]
  },
  {
   "cell_type": "code",
   "execution_count": null,
   "metadata": {
    "collapsed": true
   },
   "outputs": [],
   "source": [
    "pickle.dump( errpd, open( \"errpd\"+str(fsize)+\".pickle\", \"wb\" ) )"
   ]
  },
  {
   "cell_type": "code",
   "execution_count": null,
   "metadata": {
    "collapsed": true
   },
   "outputs": [],
   "source": [
    "errpd_5 = pickle.load( open( \"errpd\"+str(5)+\".pickle\", \"rb\" ) )\n",
    "errpd_9 = pickle.load( open( \"errpd\"+str(9)+\".pickle\", \"rb\" ) )"
   ]
  },
  {
   "cell_type": "code",
   "execution_count": null,
   "metadata": {
    "collapsed": false
   },
   "outputs": [],
   "source": [
    "model1_5 = np.loadtxt('pdf_errVdrift5X5X5')\n",
    "model2_5 = np.loadtxt('pdf_errKbbMod5X5X5')\n",
    "model1_9 = np.loadtxt('pdf_errVdrift9X9X9')\n",
    "model2_9 = np.loadtxt('pdf_errKbbMod9X9X9')"
   ]
  },
  {
   "cell_type": "code",
   "execution_count": null,
   "metadata": {
    "collapsed": true
   },
   "outputs": [],
   "source": []
  },
  {
   "cell_type": "code",
   "execution_count": null,
   "metadata": {
    "collapsed": false
   },
   "outputs": [],
   "source": [
    "plt.plot(errpd_5[1][1:]+(errpd_5[1][1]-errpd_5[1][0])/2,errpd_5[0],'b')\n",
    "plt.plot(model1_5[:,0], model1_5[:,1],'g')\n",
    "plt.plot(model2_5[:,0], model2_5[:,1],'r')\n",
    "\n",
    "plt.plot(errpd_9[1][1:]+(errpd_9[1][1]-errpd_9[1][0])/2,errpd_9[0],'--b')\n",
    "plt.plot(model1_9[:,0], model1_9[:,1],'--g')\n",
    "plt.plot(model2_9[:,0], model2_9[:,1],'--r')\n",
    "\n",
    "plt.xlim([-1, 1])\n"
   ]
  },
  {
   "cell_type": "code",
   "execution_count": null,
   "metadata": {
    "collapsed": false
   },
   "outputs": [],
   "source": [
    "np.argsort(np.abs(np.sum(model.layers[0].get_weights()[0],axis=1)))"
   ]
  },
  {
   "cell_type": "code",
   "execution_count": null,
   "metadata": {
    "collapsed": false
   },
   "outputs": [],
   "source": [
    "np.sort(np.abs(np.sum(model.layers[0].get_weights()[0],axis=1)))"
   ]
  },
  {
   "cell_type": "code",
   "execution_count": null,
   "metadata": {
    "collapsed": false
   },
   "outputs": [],
   "source": [
    "mean, cov = [0, 2], [(1, .5), (.5, 1)]\n",
    "x, y = np.random.multivariate_normal(mean, cov, size=50).T\n",
    "ax = sns.kdeplot(x)"
   ]
  },
  {
   "cell_type": "code",
   "execution_count": null,
   "metadata": {
    "collapsed": false
   },
   "outputs": [],
   "source": [
    "sns.kdeplot(error_percent)"
   ]
  },
  {
   "cell_type": "code",
   "execution_count": null,
   "metadata": {
    "collapsed": false
   },
   "outputs": [],
   "source": [
    "ah[0].shape"
   ]
  },
  {
   "cell_type": "code",
   "execution_count": null,
   "metadata": {
    "collapsed": false
   },
   "outputs": [],
   "source": [
    "plt.scatter(ah[1],ah[0])"
   ]
  },
  {
   "cell_type": "code",
   "execution_count": null,
   "metadata": {
    "collapsed": false
   },
   "outputs": [],
   "source": [
    "from scipy.stats.kde import gaussian_kde\n",
    "from numpy import linspace\n",
    "\n",
    "# this create the kernel, given an array it will estimate the probability over that values\n",
    "kde = gaussian_kde( error_percent )\n",
    "# these are the values over wich your kernel will be evaluated\n",
    "dist_space = linspace( min(error_percent), max(error_percent), 100 )\n",
    "# plot the results\n",
    "plt.plot( dist_space, kde(dist_space) )\n",
    "plt.xlim([-1,1])"
   ]
  },
  {
   "cell_type": "code",
   "execution_count": null,
   "metadata": {
    "collapsed": false
   },
   "outputs": [],
   "source": [
    "#Us_2 = np.array([[float(x[0].split()[0][1:]), float(x[0].split()[1]), float(x[0].split()[2][:-1])] for x in Us])"
   ]
  },
  {
   "cell_type": "code",
   "execution_count": null,
   "metadata": {
    "collapsed": false
   },
   "outputs": [],
   "source": [
    "#Us[-1]"
   ]
  },
  {
   "cell_type": "code",
   "execution_count": null,
   "metadata": {
    "collapsed": false
   },
   "outputs": [],
   "source": [
    "#Us_2[-1]"
   ]
  },
  {
   "cell_type": "code",
   "execution_count": null,
   "metadata": {
    "collapsed": true
   },
   "outputs": [],
   "source": []
  }
 ],
 "metadata": {
  "kernelspec": {
   "display_name": "Python 3",
   "language": "python",
   "name": "python3"
  },
  "language_info": {
   "codemirror_mode": {
    "name": "ipython",
    "version": 3
   },
   "file_extension": ".py",
   "mimetype": "text/x-python",
   "name": "python",
   "nbconvert_exporter": "python",
   "pygments_lexer": "ipython3",
   "version": "3.5.2"
  }
 },
 "nbformat": 4,
 "nbformat_minor": 2
}
