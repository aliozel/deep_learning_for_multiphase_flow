{
 "cells": [
  {
   "cell_type": "code",
   "execution_count": 1,
   "metadata": {
    "collapsed": false
   },
   "outputs": [
    {
     "name": "stderr",
     "output_type": "stream",
     "text": [
      "Using Theano backend.\n"
     ]
    }
   ],
   "source": [
    "import keras as k\n",
    "import scipy\n",
    "import numpy as np\n",
    "import pandas as pd\n",
    "import pickle"
   ]
  },
  {
   "cell_type": "code",
   "execution_count": 2,
   "metadata": {
    "collapsed": true
   },
   "outputs": [],
   "source": [
    "def get_scaler_openfoam(home,file,fsize):\n",
    "    file = file + str(fsize) + 'X' + str(fsize) + 'X' + str(fsize)\n",
    "    data = pd.read_csv(home+file,skiprows=21,skipfooter=33)\n",
    "    data = data.values\n",
    "    return data\n",
    "    \n"
   ]
  },
  {
   "cell_type": "code",
   "execution_count": 3,
   "metadata": {
    "collapsed": true
   },
   "outputs": [],
   "source": [
    "def get_vector_openfoam(home,file,fsize):\n",
    "    file = file + str(fsize) + 'X' + str(fsize) + 'X' + str(fsize)\n",
    "    data = pd.read_csv(home+file,skiprows=21,skipfooter=33)\n",
    "    data = data.values\n",
    "    data = np.array([[float(x[0].split()[0][1:]), float(x[0].split()[1]), float(x[0].split()[2][:-1])] for x in data])\n",
    "    return data"
   ]
  },
  {
   "cell_type": "code",
   "execution_count": 4,
   "metadata": {
    "collapsed": false
   },
   "outputs": [],
   "source": [
    "def dumpfiles(home, fsize, timestep):\n",
    "    home = home + '/' + str(timestep) + '/'\n",
    "    numpy_barAlpp = get_scaler_openfoam(home,'barAlpp',fsize)\n",
    "    numpy_tildeUs = get_vector_openfoam(home,'tildeUs',fsize)\n",
    "    numpy_tildeUf = get_vector_openfoam(home,'tildeUf',fsize)\n",
    "    numpy_barAlppVdrift = get_vector_openfoam(home,'barAlppVdrift',fsize)\n",
    "    numpy_barGradPg = get_vector_openfoam(home,'barGradPg',fsize)\n",
    "    numpy_Xsgs = get_vector_openfoam(home,'Xsgs',fsize)\n",
    "    #numpy_Ysgs = get_vector_openfoam(home,'Ysgs',fsize)\n",
    "    \n",
    "    numpy_Uslip = numpy_tildeUf - numpy_tildeUs\n",
    "\n",
    "    original_table = np.concatenate((numpy_barAlpp,numpy_Uslip,numpy_barAlppVdrift,numpy_barGradPg ),axis=1)\n",
    "\n",
    "    nx = 80\n",
    "    ny = 80\n",
    "    nz = 320\n",
    "    dx = 1\n",
    "\n",
    "    index1=0\n",
    "    npData=original_table.shape[-1]\n",
    "\n",
    "    myData = np.zeros( ((nx-2)*(ny-2)*(nz-2), npData * (2*dx +1)**3) );\n",
    "    target = np.zeros((nx-2)*(ny-2)*(nz-2))\n",
    "    for i in range(1,nx-1):\n",
    "        for j in range(1,ny-1):\n",
    "            for k in range(1,nz-1):\n",
    "\n",
    "\n",
    "                index2 = 0;\n",
    "                for ii in range(-dx,dx+1):\n",
    "                    for jj in range(-dx,dx+1):\n",
    "                        for kk in range(-dx,dx+1):\n",
    "                            stencil= i+ii + (j+jj)*nx + (k+kk)*nx*ny;\n",
    "                            target[index1] = numpy_Xsgs[stencil,-1]\n",
    "                            temp = original_table[stencil][:]\n",
    "                            for ind in range(npData):\n",
    "                                myData[index1,index2] = temp[ind];\n",
    "                                index2 = index2 + 1\n",
    "                index1 = index1 +1   \n",
    "    myData = np.hstack((np.ones((myData.shape[0],1))*(1/(3*fsize)),myData))\n",
    "    file_myData = \"myData_deltap_vdrift\"+'fsize' + str(fsize)+'timestep'+str(timestep)+\".pickle\"\n",
    "    file_target = \"target_deltap_vdrift\"+'fsize' + str(fsize)+'timestep'+str(timestep)+\".pickle\"\n",
    "    pickle.dump( myData, open( file_myData, \"wb\" ) )\n",
    "    pickle.dump( target, open( file_target, \"wb\" ) )\n",
    "    return myData"
   ]
  },
  {
   "cell_type": "code",
   "execution_count": 5,
   "metadata": {
    "collapsed": false
   },
   "outputs": [],
   "source": [
    "home = '/home/nandhini/yundij/neural_network'"
   ]
  },
  {
   "cell_type": "code",
   "execution_count": 6,
   "metadata": {
    "collapsed": false
   },
   "outputs": [
    {
     "name": "stderr",
     "output_type": "stream",
     "text": [
      "/home/hema/yile/anaconda3/lib/python3.5/site-packages/ipykernel/__main__.py:3: ParserWarning: Falling back to the 'python' engine because the 'c' engine does not support skipfooter; you can avoid this warning by specifying engine='python'.\n",
      "  app.launch_new_instance()\n"
     ]
    },
    {
     "data": {
      "text/plain": [
       "array([[  3.70370370e-02,   2.11182000e-02,   2.27890000e-01, ...,\n",
       "          1.66577000e+02,  -9.29904000e+02,   1.99968000e+03],\n",
       "       [  3.70370370e-02,   2.14844000e-02,   2.10855000e-01, ...,\n",
       "          2.02942000e+02,  -9.58469000e+02,   1.97586000e+03],\n",
       "       [  3.70370370e-02,   2.20235000e-02,   1.87866000e-01, ...,\n",
       "          2.22511000e+02,  -9.83956000e+02,   1.88230000e+03],\n",
       "       ..., \n",
       "       [  3.70370370e-02,   1.80045000e-02,   4.07704000e-01, ...,\n",
       "         -2.22847000e+02,  -1.07062000e+03,   1.77781000e+03],\n",
       "       [  3.70370370e-02,   1.81380000e-02,   4.00299000e-01, ...,\n",
       "         -1.74034000e+02,  -1.10248000e+03,   1.75963000e+03],\n",
       "       [  3.70370370e-02,   1.86405000e-02,   3.79785000e-01, ...,\n",
       "         -1.19770000e+02,  -1.12295000e+03,   1.77706000e+03]])"
      ]
     },
     "execution_count": 6,
     "metadata": {},
     "output_type": "execute_result"
    }
   ],
   "source": [
    "dumpfiles(home=home, fsize=9, timestep=0.3)"
   ]
  },
  {
   "cell_type": "code",
   "execution_count": 7,
   "metadata": {
    "collapsed": false
   },
   "outputs": [
    {
     "name": "stderr",
     "output_type": "stream",
     "text": [
      "/home/hema/yile/anaconda3/lib/python3.5/site-packages/ipykernel/__main__.py:3: ParserWarning: Falling back to the 'python' engine because the 'c' engine does not support skipfooter; you can avoid this warning by specifying engine='python'.\n",
      "  app.launch_new_instance()\n"
     ]
    },
    {
     "data": {
      "text/plain": [
       "array([[  3.70370370e-02,   2.44372000e-02,   1.38228260e-01, ...,\n",
       "         -1.96361000e+03,   1.19009000e+03,  -1.06702000e+03],\n",
       "       [  3.70370370e-02,   3.12508000e-02,   1.22493900e-01, ...,\n",
       "         -2.11797000e+03,   1.23790000e+03,  -1.16226000e+03],\n",
       "       [  3.70370370e-02,   3.81400000e-02,   1.00329700e-01, ...,\n",
       "         -2.17406000e+03,   1.23823000e+03,  -1.33254000e+03],\n",
       "       ..., \n",
       "       [  3.70370370e-02,   5.85147000e-03,   2.00954400e-01, ...,\n",
       "         -5.60311000e+02,   9.18948000e+02,   1.10672000e+03],\n",
       "       [  3.70370370e-02,   6.35617000e-03,   1.65289800e-01, ...,\n",
       "         -7.19528000e+02,   9.84287000e+02,   7.84686000e+02],\n",
       "       [  3.70370370e-02,   7.28664000e-03,   1.35843100e-01, ...,\n",
       "         -9.50027000e+02,   1.07213000e+03,   3.34588000e+02]])"
      ]
     },
     "execution_count": 7,
     "metadata": {},
     "output_type": "execute_result"
    }
   ],
   "source": [
    "dumpfiles(home=home, fsize=9, timestep=0.4)"
   ]
  },
  {
   "cell_type": "code",
   "execution_count": 8,
   "metadata": {
    "collapsed": false
   },
   "outputs": [
    {
     "name": "stderr",
     "output_type": "stream",
     "text": [
      "/home/hema/yile/anaconda3/lib/python3.5/site-packages/ipykernel/__main__.py:3: ParserWarning: Falling back to the 'python' engine because the 'c' engine does not support skipfooter; you can avoid this warning by specifying engine='python'.\n",
      "  app.launch_new_instance()\n"
     ]
    },
    {
     "data": {
      "text/plain": [
       "array([[  3.70370370e-02,   1.53036000e-01,  -1.50170000e-02, ...,\n",
       "          1.12544000e+03,   5.94233000e+02,   5.01976000e+02],\n",
       "       [  3.70370370e-02,   1.42752000e-01,  -1.48680000e-02, ...,\n",
       "          1.12349000e+03,   5.13485000e+02,   6.27682000e+02],\n",
       "       [  3.70370370e-02,   1.41167000e-01,  -1.07470000e-02, ...,\n",
       "          1.07053000e+03,   3.07105000e+02,   5.61029000e+02],\n",
       "       ..., \n",
       "       [  3.70370370e-02,   1.99601000e-01,  -2.70020000e-02, ...,\n",
       "          1.19130000e+03,  -1.96207000e+03,  -3.36464000e+03],\n",
       "       [  3.70370370e-02,   1.87785000e-01,  -3.04880000e-02, ...,\n",
       "          1.24554000e+03,  -1.45336000e+03,  -2.80335000e+03],\n",
       "       [  3.70370370e-02,   1.72717000e-01,  -4.08150000e-02, ...,\n",
       "          1.38840000e+03,  -1.01943000e+03,  -2.16498000e+03]])"
      ]
     },
     "execution_count": 8,
     "metadata": {},
     "output_type": "execute_result"
    }
   ],
   "source": [
    "dumpfiles(home=home, fsize=9, timestep=0.35)"
   ]
  },
  {
   "cell_type": "code",
   "execution_count": null,
   "metadata": {
    "collapsed": true
   },
   "outputs": [],
   "source": []
  },
  {
   "cell_type": "code",
   "execution_count": null,
   "metadata": {
    "collapsed": false
   },
   "outputs": [],
   "source": [
    "dumpfiles(home=home, dp = 300, timestep=0.6, fsize=9)"
   ]
  },
  {
   "cell_type": "code",
   "execution_count": null,
   "metadata": {
    "collapsed": false
   },
   "outputs": [],
   "source": [
    "dumpfiles(home=home, dp = 150, timestep=0.55, fsize=11)"
   ]
  },
  {
   "cell_type": "code",
   "execution_count": null,
   "metadata": {
    "collapsed": false
   },
   "outputs": [],
   "source": [
    "dumpfiles(home=home, dp = 75, timestep=0.65, fsize=13)"
   ]
  },
  {
   "cell_type": "code",
   "execution_count": null,
   "metadata": {
    "collapsed": false
   },
   "outputs": [],
   "source": [
    "dumpfiles(home=home, dp = 75, timestep=0.325, fsize=13,phi=0.3, cohesion='HighCoh')"
   ]
  },
  {
   "cell_type": "code",
   "execution_count": null,
   "metadata": {
    "collapsed": true
   },
   "outputs": [],
   "source": []
  }
 ],
 "metadata": {
  "kernelspec": {
   "display_name": "Python 3",
   "language": "python",
   "name": "python3"
  },
  "language_info": {
   "codemirror_mode": {
    "name": "ipython",
    "version": 3
   },
   "file_extension": ".py",
   "mimetype": "text/x-python",
   "name": "python",
   "nbconvert_exporter": "python",
   "pygments_lexer": "ipython3",
   "version": "3.5.2"
  }
 },
 "nbformat": 4,
 "nbformat_minor": 2
}
